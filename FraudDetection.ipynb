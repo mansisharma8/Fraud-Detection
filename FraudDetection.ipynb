{
 "cells": [
  {
   "cell_type": "markdown",
   "id": "f978e5dc",
   "metadata": {},
   "source": [
    "Importing the Libraries"
   ]
  },
  {
   "cell_type": "code",
   "execution_count": 1,
   "id": "9ab32dc3",
   "metadata": {},
   "outputs": [],
   "source": [
    "import numpy as np\n",
    "import pandas as pd\n",
    "import matplotlib.pyplot as plt\n"
   ]
  },
  {
   "cell_type": "markdown",
   "id": "ccae2142",
   "metadata": {},
   "source": [
    "Importing the Dataset"
   ]
  },
  {
   "cell_type": "code",
   "execution_count": 2,
   "id": "14c37a5c",
   "metadata": {},
   "outputs": [],
   "source": [
    "dataset = pd.read_csv('Fraud.csv')"
   ]
  },
  {
   "cell_type": "markdown",
   "id": "052b19d6",
   "metadata": {},
   "source": [
    "Data Exploration"
   ]
  },
  {
   "cell_type": "code",
   "execution_count": 3,
   "id": "b43927a6",
   "metadata": {},
   "outputs": [
    {
     "data": {
      "text/html": [
       "<div>\n",
       "<style scoped>\n",
       "    .dataframe tbody tr th:only-of-type {\n",
       "        vertical-align: middle;\n",
       "    }\n",
       "\n",
       "    .dataframe tbody tr th {\n",
       "        vertical-align: top;\n",
       "    }\n",
       "\n",
       "    .dataframe thead th {\n",
       "        text-align: right;\n",
       "    }\n",
       "</style>\n",
       "<table border=\"1\" class=\"dataframe\">\n",
       "  <thead>\n",
       "    <tr style=\"text-align: right;\">\n",
       "      <th></th>\n",
       "      <th>step</th>\n",
       "      <th>type</th>\n",
       "      <th>amount</th>\n",
       "      <th>nameOrig</th>\n",
       "      <th>oldbalanceOrg</th>\n",
       "      <th>newbalanceOrig</th>\n",
       "      <th>nameDest</th>\n",
       "      <th>oldbalanceDest</th>\n",
       "      <th>newbalanceDest</th>\n",
       "      <th>isFraud</th>\n",
       "      <th>isFlaggedFraud</th>\n",
       "    </tr>\n",
       "  </thead>\n",
       "  <tbody>\n",
       "    <tr>\n",
       "      <th>0</th>\n",
       "      <td>1</td>\n",
       "      <td>PAYMENT</td>\n",
       "      <td>9839.64</td>\n",
       "      <td>C1231006815</td>\n",
       "      <td>170136.0</td>\n",
       "      <td>160296.36</td>\n",
       "      <td>M1979787155</td>\n",
       "      <td>0.0</td>\n",
       "      <td>0.0</td>\n",
       "      <td>0</td>\n",
       "      <td>0</td>\n",
       "    </tr>\n",
       "    <tr>\n",
       "      <th>1</th>\n",
       "      <td>1</td>\n",
       "      <td>PAYMENT</td>\n",
       "      <td>1864.28</td>\n",
       "      <td>C1666544295</td>\n",
       "      <td>21249.0</td>\n",
       "      <td>19384.72</td>\n",
       "      <td>M2044282225</td>\n",
       "      <td>0.0</td>\n",
       "      <td>0.0</td>\n",
       "      <td>0</td>\n",
       "      <td>0</td>\n",
       "    </tr>\n",
       "    <tr>\n",
       "      <th>2</th>\n",
       "      <td>1</td>\n",
       "      <td>TRANSFER</td>\n",
       "      <td>181.00</td>\n",
       "      <td>C1305486145</td>\n",
       "      <td>181.0</td>\n",
       "      <td>0.00</td>\n",
       "      <td>C553264065</td>\n",
       "      <td>0.0</td>\n",
       "      <td>0.0</td>\n",
       "      <td>1</td>\n",
       "      <td>0</td>\n",
       "    </tr>\n",
       "    <tr>\n",
       "      <th>3</th>\n",
       "      <td>1</td>\n",
       "      <td>CASH_OUT</td>\n",
       "      <td>181.00</td>\n",
       "      <td>C840083671</td>\n",
       "      <td>181.0</td>\n",
       "      <td>0.00</td>\n",
       "      <td>C38997010</td>\n",
       "      <td>21182.0</td>\n",
       "      <td>0.0</td>\n",
       "      <td>1</td>\n",
       "      <td>0</td>\n",
       "    </tr>\n",
       "    <tr>\n",
       "      <th>4</th>\n",
       "      <td>1</td>\n",
       "      <td>PAYMENT</td>\n",
       "      <td>11668.14</td>\n",
       "      <td>C2048537720</td>\n",
       "      <td>41554.0</td>\n",
       "      <td>29885.86</td>\n",
       "      <td>M1230701703</td>\n",
       "      <td>0.0</td>\n",
       "      <td>0.0</td>\n",
       "      <td>0</td>\n",
       "      <td>0</td>\n",
       "    </tr>\n",
       "  </tbody>\n",
       "</table>\n",
       "</div>"
      ],
      "text/plain": [
       "   step      type    amount     nameOrig  oldbalanceOrg  newbalanceOrig  \\\n",
       "0     1   PAYMENT   9839.64  C1231006815       170136.0       160296.36   \n",
       "1     1   PAYMENT   1864.28  C1666544295        21249.0        19384.72   \n",
       "2     1  TRANSFER    181.00  C1305486145          181.0            0.00   \n",
       "3     1  CASH_OUT    181.00   C840083671          181.0            0.00   \n",
       "4     1   PAYMENT  11668.14  C2048537720        41554.0        29885.86   \n",
       "\n",
       "      nameDest  oldbalanceDest  newbalanceDest  isFraud  isFlaggedFraud  \n",
       "0  M1979787155             0.0             0.0        0               0  \n",
       "1  M2044282225             0.0             0.0        0               0  \n",
       "2   C553264065             0.0             0.0        1               0  \n",
       "3    C38997010         21182.0             0.0        1               0  \n",
       "4  M1230701703             0.0             0.0        0               0  "
      ]
     },
     "execution_count": 3,
     "metadata": {},
     "output_type": "execute_result"
    }
   ],
   "source": [
    "dataset.head()"
   ]
  },
  {
   "cell_type": "code",
   "execution_count": 4,
   "id": "afa88a83",
   "metadata": {},
   "outputs": [
    {
     "data": {
      "text/plain": [
       "(6362620, 11)"
      ]
     },
     "execution_count": 4,
     "metadata": {},
     "output_type": "execute_result"
    }
   ],
   "source": [
    "dataset.shape"
   ]
  },
  {
   "cell_type": "code",
   "execution_count": 5,
   "id": "f4254458",
   "metadata": {},
   "outputs": [
    {
     "name": "stdout",
     "output_type": "stream",
     "text": [
      "<class 'pandas.core.frame.DataFrame'>\n",
      "RangeIndex: 6362620 entries, 0 to 6362619\n",
      "Data columns (total 11 columns):\n",
      " #   Column          Dtype  \n",
      "---  ------          -----  \n",
      " 0   step            int64  \n",
      " 1   type            object \n",
      " 2   amount          float64\n",
      " 3   nameOrig        object \n",
      " 4   oldbalanceOrg   float64\n",
      " 5   newbalanceOrig  float64\n",
      " 6   nameDest        object \n",
      " 7   oldbalanceDest  float64\n",
      " 8   newbalanceDest  float64\n",
      " 9   isFraud         int64  \n",
      " 10  isFlaggedFraud  int64  \n",
      "dtypes: float64(5), int64(3), object(3)\n",
      "memory usage: 534.0+ MB\n"
     ]
    }
   ],
   "source": [
    "dataset.info()"
   ]
  },
  {
   "cell_type": "code",
   "execution_count": 6,
   "id": "951b189f",
   "metadata": {},
   "outputs": [
    {
     "data": {
      "text/plain": [
       "isFraud                 2\n",
       "isFlaggedFraud          2\n",
       "type                    5\n",
       "step                  743\n",
       "oldbalanceOrg     1845844\n",
       "newbalanceOrig    2682586\n",
       "nameDest          2722362\n",
       "newbalanceDest    3555499\n",
       "oldbalanceDest    3614697\n",
       "amount            5316900\n",
       "nameOrig          6353307\n",
       "dtype: int64"
      ]
     },
     "execution_count": 6,
     "metadata": {},
     "output_type": "execute_result"
    }
   ],
   "source": [
    "dataset.nunique().sort_values(ascending=True)"
   ]
  },
  {
   "cell_type": "code",
   "execution_count": 7,
   "id": "bb092afa",
   "metadata": {},
   "outputs": [],
   "source": [
    "target = 'isFraud'\n",
    "features = [feature for feature in dataset.columns if feature not in [target]]"
   ]
  },
  {
   "cell_type": "code",
   "execution_count": 8,
   "id": "9dda5a98",
   "metadata": {},
   "outputs": [
    {
     "data": {
      "text/html": [
       "<div>\n",
       "<style scoped>\n",
       "    .dataframe tbody tr th:only-of-type {\n",
       "        vertical-align: middle;\n",
       "    }\n",
       "\n",
       "    .dataframe tbody tr th {\n",
       "        vertical-align: top;\n",
       "    }\n",
       "\n",
       "    .dataframe thead th {\n",
       "        text-align: right;\n",
       "    }\n",
       "</style>\n",
       "<table border=\"1\" class=\"dataframe\">\n",
       "  <thead>\n",
       "    <tr style=\"text-align: right;\">\n",
       "      <th></th>\n",
       "      <th>step</th>\n",
       "      <th>type</th>\n",
       "      <th>amount</th>\n",
       "      <th>nameOrig</th>\n",
       "      <th>oldbalanceOrg</th>\n",
       "      <th>newbalanceOrig</th>\n",
       "      <th>nameDest</th>\n",
       "      <th>oldbalanceDest</th>\n",
       "      <th>newbalanceDest</th>\n",
       "      <th>isFraud</th>\n",
       "      <th>isFlaggedFraud</th>\n",
       "    </tr>\n",
       "  </thead>\n",
       "  <tbody>\n",
       "    <tr>\n",
       "      <th>0</th>\n",
       "      <td>1</td>\n",
       "      <td>PAYMENT</td>\n",
       "      <td>9839.64</td>\n",
       "      <td>C1231006815</td>\n",
       "      <td>170136.0</td>\n",
       "      <td>160296.36</td>\n",
       "      <td>M1979787155</td>\n",
       "      <td>0.0</td>\n",
       "      <td>0.0</td>\n",
       "      <td>0</td>\n",
       "      <td>0</td>\n",
       "    </tr>\n",
       "    <tr>\n",
       "      <th>1</th>\n",
       "      <td>1</td>\n",
       "      <td>PAYMENT</td>\n",
       "      <td>1864.28</td>\n",
       "      <td>C1666544295</td>\n",
       "      <td>21249.0</td>\n",
       "      <td>19384.72</td>\n",
       "      <td>M2044282225</td>\n",
       "      <td>0.0</td>\n",
       "      <td>0.0</td>\n",
       "      <td>0</td>\n",
       "      <td>0</td>\n",
       "    </tr>\n",
       "    <tr>\n",
       "      <th>2</th>\n",
       "      <td>1</td>\n",
       "      <td>TRANSFER</td>\n",
       "      <td>181.00</td>\n",
       "      <td>C1305486145</td>\n",
       "      <td>181.0</td>\n",
       "      <td>0.00</td>\n",
       "      <td>C553264065</td>\n",
       "      <td>0.0</td>\n",
       "      <td>0.0</td>\n",
       "      <td>1</td>\n",
       "      <td>0</td>\n",
       "    </tr>\n",
       "    <tr>\n",
       "      <th>3</th>\n",
       "      <td>1</td>\n",
       "      <td>CASH_OUT</td>\n",
       "      <td>181.00</td>\n",
       "      <td>C840083671</td>\n",
       "      <td>181.0</td>\n",
       "      <td>0.00</td>\n",
       "      <td>C38997010</td>\n",
       "      <td>21182.0</td>\n",
       "      <td>0.0</td>\n",
       "      <td>1</td>\n",
       "      <td>0</td>\n",
       "    </tr>\n",
       "    <tr>\n",
       "      <th>4</th>\n",
       "      <td>1</td>\n",
       "      <td>PAYMENT</td>\n",
       "      <td>11668.14</td>\n",
       "      <td>C2048537720</td>\n",
       "      <td>41554.0</td>\n",
       "      <td>29885.86</td>\n",
       "      <td>M1230701703</td>\n",
       "      <td>0.0</td>\n",
       "      <td>0.0</td>\n",
       "      <td>0</td>\n",
       "      <td>0</td>\n",
       "    </tr>\n",
       "  </tbody>\n",
       "</table>\n",
       "</div>"
      ],
      "text/plain": [
       "   step      type    amount     nameOrig  oldbalanceOrg  newbalanceOrig  \\\n",
       "0     1   PAYMENT   9839.64  C1231006815       170136.0       160296.36   \n",
       "1     1   PAYMENT   1864.28  C1666544295        21249.0        19384.72   \n",
       "2     1  TRANSFER    181.00  C1305486145          181.0            0.00   \n",
       "3     1  CASH_OUT    181.00   C840083671          181.0            0.00   \n",
       "4     1   PAYMENT  11668.14  C2048537720        41554.0        29885.86   \n",
       "\n",
       "      nameDest  oldbalanceDest  newbalanceDest  isFraud  isFlaggedFraud  \n",
       "0  M1979787155             0.0             0.0        0               0  \n",
       "1  M2044282225             0.0             0.0        0               0  \n",
       "2   C553264065             0.0             0.0        1               0  \n",
       "3    C38997010         21182.0             0.0        1               0  \n",
       "4  M1230701703             0.0             0.0        0               0  "
      ]
     },
     "execution_count": 8,
     "metadata": {},
     "output_type": "execute_result"
    }
   ],
   "source": [
    "dataset.head()"
   ]
  },
  {
   "cell_type": "markdown",
   "id": "597101cc",
   "metadata": {},
   "source": [
    "From above we will treat these as categorical features: isFlaggedFraud, type, nameOrig, nameDest\n",
    "\n",
    "All the others we will treat as numerical features\n"
   ]
  },
  {
   "cell_type": "code",
   "execution_count": 9,
   "id": "00c46a06",
   "metadata": {},
   "outputs": [
    {
     "data": {
      "text/html": [
       "<div>\n",
       "<style scoped>\n",
       "    .dataframe tbody tr th:only-of-type {\n",
       "        vertical-align: middle;\n",
       "    }\n",
       "\n",
       "    .dataframe tbody tr th {\n",
       "        vertical-align: top;\n",
       "    }\n",
       "\n",
       "    .dataframe thead th {\n",
       "        text-align: right;\n",
       "    }\n",
       "</style>\n",
       "<table border=\"1\" class=\"dataframe\">\n",
       "  <thead>\n",
       "    <tr style=\"text-align: right;\">\n",
       "      <th></th>\n",
       "      <th>step</th>\n",
       "      <th>amount</th>\n",
       "      <th>oldbalanceOrg</th>\n",
       "      <th>newbalanceOrig</th>\n",
       "      <th>oldbalanceDest</th>\n",
       "      <th>newbalanceDest</th>\n",
       "      <th>isFraud</th>\n",
       "      <th>isFlaggedFraud</th>\n",
       "    </tr>\n",
       "  </thead>\n",
       "  <tbody>\n",
       "    <tr>\n",
       "      <th>count</th>\n",
       "      <td>6.362620e+06</td>\n",
       "      <td>6.362620e+06</td>\n",
       "      <td>6.362620e+06</td>\n",
       "      <td>6.362620e+06</td>\n",
       "      <td>6.362620e+06</td>\n",
       "      <td>6.362620e+06</td>\n",
       "      <td>6.362620e+06</td>\n",
       "      <td>6.362620e+06</td>\n",
       "    </tr>\n",
       "    <tr>\n",
       "      <th>mean</th>\n",
       "      <td>2.433972e+02</td>\n",
       "      <td>1.798619e+05</td>\n",
       "      <td>8.338831e+05</td>\n",
       "      <td>8.551137e+05</td>\n",
       "      <td>1.100702e+06</td>\n",
       "      <td>1.224996e+06</td>\n",
       "      <td>1.290820e-03</td>\n",
       "      <td>2.514687e-06</td>\n",
       "    </tr>\n",
       "    <tr>\n",
       "      <th>std</th>\n",
       "      <td>1.423320e+02</td>\n",
       "      <td>6.038582e+05</td>\n",
       "      <td>2.888243e+06</td>\n",
       "      <td>2.924049e+06</td>\n",
       "      <td>3.399180e+06</td>\n",
       "      <td>3.674129e+06</td>\n",
       "      <td>3.590480e-02</td>\n",
       "      <td>1.585775e-03</td>\n",
       "    </tr>\n",
       "    <tr>\n",
       "      <th>min</th>\n",
       "      <td>1.000000e+00</td>\n",
       "      <td>0.000000e+00</td>\n",
       "      <td>0.000000e+00</td>\n",
       "      <td>0.000000e+00</td>\n",
       "      <td>0.000000e+00</td>\n",
       "      <td>0.000000e+00</td>\n",
       "      <td>0.000000e+00</td>\n",
       "      <td>0.000000e+00</td>\n",
       "    </tr>\n",
       "    <tr>\n",
       "      <th>25%</th>\n",
       "      <td>1.560000e+02</td>\n",
       "      <td>1.338957e+04</td>\n",
       "      <td>0.000000e+00</td>\n",
       "      <td>0.000000e+00</td>\n",
       "      <td>0.000000e+00</td>\n",
       "      <td>0.000000e+00</td>\n",
       "      <td>0.000000e+00</td>\n",
       "      <td>0.000000e+00</td>\n",
       "    </tr>\n",
       "    <tr>\n",
       "      <th>50%</th>\n",
       "      <td>2.390000e+02</td>\n",
       "      <td>7.487194e+04</td>\n",
       "      <td>1.420800e+04</td>\n",
       "      <td>0.000000e+00</td>\n",
       "      <td>1.327057e+05</td>\n",
       "      <td>2.146614e+05</td>\n",
       "      <td>0.000000e+00</td>\n",
       "      <td>0.000000e+00</td>\n",
       "    </tr>\n",
       "    <tr>\n",
       "      <th>75%</th>\n",
       "      <td>3.350000e+02</td>\n",
       "      <td>2.087215e+05</td>\n",
       "      <td>1.073152e+05</td>\n",
       "      <td>1.442584e+05</td>\n",
       "      <td>9.430367e+05</td>\n",
       "      <td>1.111909e+06</td>\n",
       "      <td>0.000000e+00</td>\n",
       "      <td>0.000000e+00</td>\n",
       "    </tr>\n",
       "    <tr>\n",
       "      <th>max</th>\n",
       "      <td>7.430000e+02</td>\n",
       "      <td>9.244552e+07</td>\n",
       "      <td>5.958504e+07</td>\n",
       "      <td>4.958504e+07</td>\n",
       "      <td>3.560159e+08</td>\n",
       "      <td>3.561793e+08</td>\n",
       "      <td>1.000000e+00</td>\n",
       "      <td>1.000000e+00</td>\n",
       "    </tr>\n",
       "  </tbody>\n",
       "</table>\n",
       "</div>"
      ],
      "text/plain": [
       "               step        amount  oldbalanceOrg  newbalanceOrig  \\\n",
       "count  6.362620e+06  6.362620e+06   6.362620e+06    6.362620e+06   \n",
       "mean   2.433972e+02  1.798619e+05   8.338831e+05    8.551137e+05   \n",
       "std    1.423320e+02  6.038582e+05   2.888243e+06    2.924049e+06   \n",
       "min    1.000000e+00  0.000000e+00   0.000000e+00    0.000000e+00   \n",
       "25%    1.560000e+02  1.338957e+04   0.000000e+00    0.000000e+00   \n",
       "50%    2.390000e+02  7.487194e+04   1.420800e+04    0.000000e+00   \n",
       "75%    3.350000e+02  2.087215e+05   1.073152e+05    1.442584e+05   \n",
       "max    7.430000e+02  9.244552e+07   5.958504e+07    4.958504e+07   \n",
       "\n",
       "       oldbalanceDest  newbalanceDest       isFraud  isFlaggedFraud  \n",
       "count    6.362620e+06    6.362620e+06  6.362620e+06    6.362620e+06  \n",
       "mean     1.100702e+06    1.224996e+06  1.290820e-03    2.514687e-06  \n",
       "std      3.399180e+06    3.674129e+06  3.590480e-02    1.585775e-03  \n",
       "min      0.000000e+00    0.000000e+00  0.000000e+00    0.000000e+00  \n",
       "25%      0.000000e+00    0.000000e+00  0.000000e+00    0.000000e+00  \n",
       "50%      1.327057e+05    2.146614e+05  0.000000e+00    0.000000e+00  \n",
       "75%      9.430367e+05    1.111909e+06  0.000000e+00    0.000000e+00  \n",
       "max      3.560159e+08    3.561793e+08  1.000000e+00    1.000000e+00  "
      ]
     },
     "execution_count": 9,
     "metadata": {},
     "output_type": "execute_result"
    }
   ],
   "source": [
    "dataset.describe()"
   ]
  },
  {
   "cell_type": "markdown",
   "id": "fdd3e36d",
   "metadata": {},
   "source": [
    "Performing Exploratory Data Analysis"
   ]
  },
  {
   "cell_type": "markdown",
   "id": "40eaa3e0",
   "metadata": {},
   "source": [
    "Let's check out the distribution of out target variable i.e. isFraud"
   ]
  },
  {
   "cell_type": "code",
   "execution_count": 10,
   "id": "5d13b683",
   "metadata": {},
   "outputs": [],
   "source": [
    "import seaborn as sns"
   ]
  },
  {
   "cell_type": "code",
   "execution_count": 11,
   "id": "76d40d11",
   "metadata": {},
   "outputs": [
    {
     "name": "stderr",
     "output_type": "stream",
     "text": [
      "c:\\users\\mansi\\anaconda3\\envs\\project\\lib\\site-packages\\seaborn\\_decorators.py:43: FutureWarning: Pass the following variable as a keyword arg: x. From version 0.12, the only valid positional argument will be `data`, and passing other arguments without an explicit keyword will result in an error or misinterpretation.\n",
      "  FutureWarning\n"
     ]
    },
    {
     "data": {
      "text/plain": [
       "<AxesSubplot:xlabel='isFraud', ylabel='count'>"
      ]
     },
     "execution_count": 11,
     "metadata": {},
     "output_type": "execute_result"
    },
    {
     "data": {
      "image/png": "[encoded data removed]",
      "text/plain": [
       "<Figure size 504x504 with 1 Axes>"
      ]
     },
     "metadata": {
      "needs_background": "light"
     },
     "output_type": "display_data"
    }
   ],
   "source": [
    "plt.figure(figsize=[7, 7])\n",
    "sns.countplot(dataset[target])"
   ]
  },
  {
   "cell_type": "code",
   "execution_count": 12,
   "id": "6e2e0e3c",
   "metadata": {},
   "outputs": [
    {
     "data": {
      "text/plain": [
       "0    6354407\n",
       "1       8213\n",
       "Name: isFraud, dtype: int64"
      ]
     },
     "execution_count": 12,
     "metadata": {},
     "output_type": "execute_result"
    }
   ],
   "source": [
    "dataset[target].value_counts()"
   ]
  },
  {
   "cell_type": "markdown",
   "id": "2097c564",
   "metadata": {},
   "source": [
    "Inference: As we can see from above, we are facing a big problem of class imbalance, we will need to deal with this before applying statistical techniques or training our machine learning algorithm"
   ]
  },
  {
   "cell_type": "markdown",
   "id": "4231c771",
   "metadata": {},
   "source": [
    "Now, Let's check out distribution of our categorical features."
   ]
  },
  {
   "cell_type": "code",
   "execution_count": 13,
   "id": "4b529446",
   "metadata": {},
   "outputs": [
    {
     "name": "stderr",
     "output_type": "stream",
     "text": [
      "c:\\users\\mansi\\anaconda3\\envs\\project\\lib\\site-packages\\seaborn\\_decorators.py:43: FutureWarning: Pass the following variable as a keyword arg: x. From version 0.12, the only valid positional argument will be `data`, and passing other arguments without an explicit keyword will result in an error or misinterpretation.\n",
      "  FutureWarning\n"
     ]
    },
    {
     "data": {
      "text/plain": [
       "<AxesSubplot:xlabel='type', ylabel='count'>"
      ]
     },
     "execution_count": 13,
     "metadata": {},
     "output_type": "execute_result"
    },
    {
     "data": {
      "image/png": "[encoded data removed]",
      "text/plain": [
       "<Figure size 432x288 with 1 Axes>"
      ]
     },
     "metadata": {
      "needs_background": "light"
     },
     "output_type": "display_data"
    }
   ],
   "source": [
    "sns.countplot(dataset['type'])"
   ]
  },
  {
   "cell_type": "markdown",
   "id": "6729ca01",
   "metadata": {},
   "source": [
    "This seems fine, but we have very low number of debit transactions, let's check the number of fraud transations in each of them"
   ]
  },
  {
   "cell_type": "code",
   "execution_count": 14,
   "id": "0a5b5578",
   "metadata": {},
   "outputs": [
    {
     "data": {
      "text/html": [
       "<div>\n",
       "<style scoped>\n",
       "    .dataframe tbody tr th:only-of-type {\n",
       "        vertical-align: middle;\n",
       "    }\n",
       "\n",
       "    .dataframe tbody tr th {\n",
       "        vertical-align: top;\n",
       "    }\n",
       "\n",
       "    .dataframe thead th {\n",
       "        text-align: right;\n",
       "    }\n",
       "</style>\n",
       "<table border=\"1\" class=\"dataframe\">\n",
       "  <thead>\n",
       "    <tr style=\"text-align: right;\">\n",
       "      <th>type</th>\n",
       "      <th>CASH_IN</th>\n",
       "      <th>CASH_OUT</th>\n",
       "      <th>DEBIT</th>\n",
       "      <th>PAYMENT</th>\n",
       "      <th>TRANSFER</th>\n",
       "    </tr>\n",
       "    <tr>\n",
       "      <th>isFraud</th>\n",
       "      <th></th>\n",
       "      <th></th>\n",
       "      <th></th>\n",
       "      <th></th>\n",
       "      <th></th>\n",
       "    </tr>\n",
       "  </thead>\n",
       "  <tbody>\n",
       "    <tr>\n",
       "      <th>0</th>\n",
       "      <td>1399284</td>\n",
       "      <td>2233384</td>\n",
       "      <td>41432</td>\n",
       "      <td>2151495</td>\n",
       "      <td>528812</td>\n",
       "    </tr>\n",
       "    <tr>\n",
       "      <th>1</th>\n",
       "      <td>0</td>\n",
       "      <td>4116</td>\n",
       "      <td>0</td>\n",
       "      <td>0</td>\n",
       "      <td>4097</td>\n",
       "    </tr>\n",
       "  </tbody>\n",
       "</table>\n",
       "</div>"
      ],
      "text/plain": [
       "type     CASH_IN  CASH_OUT  DEBIT  PAYMENT  TRANSFER\n",
       "isFraud                                             \n",
       "0        1399284   2233384  41432  2151495    528812\n",
       "1              0      4116      0        0      4097"
      ]
     },
     "execution_count": 14,
     "metadata": {},
     "output_type": "execute_result"
    }
   ],
   "source": [
    "dataset.groupby([target, 'type']).size().unstack(fill_value=0)"
   ]
  },
  {
   "cell_type": "markdown",
   "id": "4d2bd8b7",
   "metadata": {},
   "source": [
    "We can see from this that there are no fraud transactions in CASH_IN(obviously), DEBIT, PAYMENT\n",
    "\n",
    "nameOrig feature is just customer name/ID which makes it pretty irrelevent when training our models, same is probably true for nameDest"
   ]
  },
  {
   "cell_type": "code",
   "execution_count": 15,
   "id": "ca8175a1",
   "metadata": {},
   "outputs": [
    {
     "name": "stderr",
     "output_type": "stream",
     "text": [
      "c:\\users\\mansi\\anaconda3\\envs\\project\\lib\\site-packages\\seaborn\\_decorators.py:43: FutureWarning: Pass the following variable as a keyword arg: x. From version 0.12, the only valid positional argument will be `data`, and passing other arguments without an explicit keyword will result in an error or misinterpretation.\n",
      "  FutureWarning\n"
     ]
    },
    {
     "data": {
      "text/plain": [
       "<AxesSubplot:xlabel='isFlaggedFraud', ylabel='count'>"
      ]
     },
     "execution_count": 15,
     "metadata": {},
     "output_type": "execute_result"
    },
    {
     "data": {
      "image/png": "[encoded data removed]",
      "text/plain": [
       "<Figure size 432x288 with 1 Axes>"
      ]
     },
     "metadata": {
      "needs_background": "light"
     },
     "output_type": "display_data"
    }
   ],
   "source": [
    "sns.countplot(dataset['isFlaggedFraud'])"
   ]
  },
  {
   "cell_type": "code",
   "execution_count": 16,
   "id": "cd641fd5",
   "metadata": {},
   "outputs": [
    {
     "data": {
      "text/plain": [
       "0    6362604\n",
       "1         16\n",
       "Name: isFlaggedFraud, dtype: int64"
      ]
     },
     "execution_count": 16,
     "metadata": {},
     "output_type": "execute_result"
    }
   ],
   "source": [
    "dataset['isFlaggedFraud'].value_counts()"
   ]
  },
  {
   "cell_type": "markdown",
   "id": "3d19da79",
   "metadata": {},
   "source": [
    "We can see that this feature is very imbalanced and is almost irrelevent, and hence we should drop it"
   ]
  },
  {
   "cell_type": "markdown",
   "id": "33a53f23",
   "metadata": {},
   "source": [
    "Let's check out numerical features now"
   ]
  },
  {
   "cell_type": "code",
   "execution_count": 18,
   "id": "9ffe1732",
   "metadata": {},
   "outputs": [
    {
     "name": "stderr",
     "output_type": "stream",
     "text": [
      "c:\\users\\mansi\\anaconda3\\envs\\project\\lib\\site-packages\\seaborn\\distributions.py:2557: FutureWarning: `distplot` is a deprecated function and will be removed in a future version. Please adapt your code to use either `displot` (a figure-level function with similar flexibility) or `histplot` (an axes-level function for histograms).\n",
      "  warnings.warn(msg, FutureWarning)\n"
     ]
    },
    {
     "data": {
      "text/plain": [
       "<AxesSubplot:xlabel='amount', ylabel='Density'>"
      ]
     },
     "execution_count": 18,
     "metadata": {},
     "output_type": "execute_result"
    },
    {
     "data": {
      "image/png": "[encoded data removed]",
      "text/plain": [
       "<Figure size 432x432 with 1 Axes>"
      ]
     },
     "metadata": {
      "needs_background": "light"
     },
     "output_type": "display_data"
    }
   ],
   "source": [
    "plt.figure(figsize=[6, 6])\n",
    "sns.distplot(dataset['amount'], color='b', hist_kws=dict(edgecolor='black', linewidth=2), bins=50)"
   ]
  },
  {
   "cell_type": "code",
   "execution_count": 19,
   "id": "8d42d337",
   "metadata": {},
   "outputs": [
    {
     "name": "stderr",
     "output_type": "stream",
     "text": [
      "c:\\users\\mansi\\anaconda3\\envs\\project\\lib\\site-packages\\seaborn\\_decorators.py:43: FutureWarning: Pass the following variable as a keyword arg: x. From version 0.12, the only valid positional argument will be `data`, and passing other arguments without an explicit keyword will result in an error or misinterpretation.\n",
      "  FutureWarning\n"
     ]
    },
    {
     "data": {
      "text/plain": [
       "<AxesSubplot:xlabel='amount'>"
      ]
     },
     "execution_count": 19,
     "metadata": {},
     "output_type": "execute_result"
    },
    {
     "data": {
      "image/png": "[encoded data removed]",
      "text/plain": [
       "<Figure size 432x288 with 1 Axes>"
      ]
     },
     "metadata": {
      "needs_background": "light"
     },
     "output_type": "display_data"
    }
   ],
   "source": [
    "sns.boxplot(dataset['amount'])"
   ]
  },
  {
   "cell_type": "code",
   "execution_count": 20,
   "id": "104822cb",
   "metadata": {},
   "outputs": [
    {
     "data": {
      "text/plain": [
       "count    6.362620e+06\n",
       "mean     1.798619e+05\n",
       "std      6.038582e+05\n",
       "min      0.000000e+00\n",
       "25%      1.338957e+04\n",
       "50%      7.487194e+04\n",
       "75%      2.087215e+05\n",
       "max      9.244552e+07\n",
       "Name: amount, dtype: float64"
      ]
     },
     "execution_count": 20,
     "metadata": {},
     "output_type": "execute_result"
    }
   ],
   "source": [
    "dataset['amount'].describe()"
   ]
  },
  {
   "cell_type": "code",
   "execution_count": 21,
   "id": "628094e7",
   "metadata": {},
   "outputs": [
    {
     "data": {
      "text/plain": [
       "0    6354407\n",
       "1       8213\n",
       "Name: isFraud, dtype: int64"
      ]
     },
     "execution_count": 21,
     "metadata": {},
     "output_type": "execute_result"
    }
   ],
   "source": [
    "from scipy.stats import zscore\n",
    "dataset[target].value_counts()"
   ]
  },
  {
   "cell_type": "code",
   "execution_count": 22,
   "id": "a6aa11dd",
   "metadata": {},
   "outputs": [
    {
     "data": {
      "text/plain": [
       "0    6311148\n",
       "1       6527\n",
       "Name: isFraud, dtype: int64"
      ]
     },
     "execution_count": 22,
     "metadata": {},
     "output_type": "execute_result"
    }
   ],
   "source": [
    "dataset[np.abs(zscore(dataset['amount'])) < 3][target].value_counts()"
   ]
  },
  {
   "cell_type": "markdown",
   "id": "348b4e15",
   "metadata": {},
   "source": [
    "There are a lot of outliers in this feature but we cannot remove much of the data because many of the outliers are associated with fraudulent transactions which are already a minority for predictive modelling"
   ]
  },
  {
   "cell_type": "code",
   "execution_count": 23,
   "id": "ae5424ab",
   "metadata": {},
   "outputs": [
    {
     "name": "stderr",
     "output_type": "stream",
     "text": [
      "c:\\users\\mansi\\anaconda3\\envs\\project\\lib\\site-packages\\seaborn\\distributions.py:2557: FutureWarning: `distplot` is a deprecated function and will be removed in a future version. Please adapt your code to use either `displot` (a figure-level function with similar flexibility) or `histplot` (an axes-level function for histograms).\n",
      "  warnings.warn(msg, FutureWarning)\n"
     ]
    },
    {
     "data": {
      "text/plain": [
       "<AxesSubplot:xlabel='oldbalanceOrg', ylabel='Density'>"
      ]
     },
     "execution_count": 23,
     "metadata": {},
     "output_type": "execute_result"
    },
    {
     "data": {
      "image/png": "[encoded data removed]",
      "text/plain": [
       "<Figure size 432x432 with 1 Axes>"
      ]
     },
     "metadata": {
      "needs_background": "light"
     },
     "output_type": "display_data"
    }
   ],
   "source": [
    "plt.figure(figsize=[6, 6])\n",
    "sns.distplot(dataset['oldbalanceOrg'], color='b', hist_kws=dict(edgecolor='black', linewidth=2), bins=50)"
   ]
  },
  {
   "cell_type": "code",
   "execution_count": 24,
   "id": "e8a06544",
   "metadata": {},
   "outputs": [
    {
     "name": "stderr",
     "output_type": "stream",
     "text": [
      "c:\\users\\mansi\\anaconda3\\envs\\project\\lib\\site-packages\\seaborn\\_decorators.py:43: FutureWarning: Pass the following variable as a keyword arg: x. From version 0.12, the only valid positional argument will be `data`, and passing other arguments without an explicit keyword will result in an error or misinterpretation.\n",
      "  FutureWarning\n"
     ]
    },
    {
     "data": {
      "text/plain": [
       "<AxesSubplot:xlabel='oldbalanceOrg'>"
      ]
     },
     "execution_count": 24,
     "metadata": {},
     "output_type": "execute_result"
    },
    {
     "data": {
      "image/png": "[encoded data removed]",
      "text/plain": [
       "<Figure size 432x288 with 1 Axes>"
      ]
     },
     "metadata": {
      "needs_background": "light"
     },
     "output_type": "display_data"
    }
   ],
   "source": [
    "sns.boxplot(dataset['oldbalanceOrg'])"
   ]
  },
  {
   "cell_type": "code",
   "execution_count": 25,
   "id": "c4c283ae",
   "metadata": {},
   "outputs": [
    {
     "data": {
      "text/plain": [
       "count    6.362620e+06\n",
       "mean     8.338831e+05\n",
       "std      2.888243e+06\n",
       "min      0.000000e+00\n",
       "25%      0.000000e+00\n",
       "50%      1.420800e+04\n",
       "75%      1.073152e+05\n",
       "max      5.958504e+07\n",
       "Name: oldbalanceOrg, dtype: float64"
      ]
     },
     "execution_count": 25,
     "metadata": {},
     "output_type": "execute_result"
    }
   ],
   "source": [
    "dataset['oldbalanceOrg'].describe()"
   ]
  },
  {
   "cell_type": "code",
   "execution_count": 26,
   "id": "5a002e80",
   "metadata": {},
   "outputs": [
    {
     "data": {
      "text/plain": [
       "0    6354407\n",
       "1       8213\n",
       "Name: isFraud, dtype: int64"
      ]
     },
     "execution_count": 26,
     "metadata": {},
     "output_type": "execute_result"
    }
   ],
   "source": [
    "dataset[target].value_counts()"
   ]
  },
  {
   "cell_type": "code",
   "execution_count": 27,
   "id": "c897d871",
   "metadata": {},
   "outputs": [
    {
     "data": {
      "text/plain": [
       "0    6199579\n",
       "1       7901\n",
       "Name: isFraud, dtype: int64"
      ]
     },
     "execution_count": 27,
     "metadata": {},
     "output_type": "execute_result"
    }
   ],
   "source": [
    "dataset[np.abs(zscore(dataset['oldbalanceOrg'])) < 3][target].value_counts()"
   ]
  },
  {
   "cell_type": "markdown",
   "id": "4dc0cae5",
   "metadata": {},
   "source": [
    "We can try to remove some outliers in this case"
   ]
  },
  {
   "cell_type": "code",
   "execution_count": 28,
   "id": "54adec3f",
   "metadata": {},
   "outputs": [
    {
     "data": {
      "text/plain": [
       "(6207480, 11)"
      ]
     },
     "execution_count": 28,
     "metadata": {},
     "output_type": "execute_result"
    }
   ],
   "source": [
    "dataset[np.abs(zscore(dataset['oldbalanceOrg'])) < 3].shape"
   ]
  },
  {
   "cell_type": "code",
   "execution_count": 29,
   "id": "63c9111c",
   "metadata": {},
   "outputs": [
    {
     "data": {
      "text/plain": [
       "(6362620, 11)"
      ]
     },
     "execution_count": 29,
     "metadata": {},
     "output_type": "execute_result"
    }
   ],
   "source": [
    "dataset.shape"
   ]
  },
  {
   "cell_type": "code",
   "execution_count": 30,
   "id": "74247b99",
   "metadata": {},
   "outputs": [
    {
     "name": "stderr",
     "output_type": "stream",
     "text": [
      "c:\\users\\mansi\\anaconda3\\envs\\project\\lib\\site-packages\\seaborn\\distributions.py:2557: FutureWarning: `distplot` is a deprecated function and will be removed in a future version. Please adapt your code to use either `displot` (a figure-level function with similar flexibility) or `histplot` (an axes-level function for histograms).\n",
      "  warnings.warn(msg, FutureWarning)\n"
     ]
    },
    {
     "data": {
      "text/plain": [
       "<AxesSubplot:xlabel='newbalanceOrig', ylabel='Density'>"
      ]
     },
     "execution_count": 30,
     "metadata": {},
     "output_type": "execute_result"
    },
    {
     "data": {
      "image/png": "[encoded data removed]",
      "text/plain": [
       "<Figure size 432x432 with 1 Axes>"
      ]
     },
     "metadata": {
      "needs_background": "light"
     },
     "output_type": "display_data"
    }
   ],
   "source": [
    "plt.figure(figsize=[6, 6])\n",
    "sns.distplot(dataset['newbalanceOrig'], color='b', hist_kws=dict(edgecolor='black', linewidth=2), bins=50)"
   ]
  },
  {
   "cell_type": "code",
   "execution_count": 31,
   "id": "37a37cea",
   "metadata": {},
   "outputs": [
    {
     "name": "stderr",
     "output_type": "stream",
     "text": [
      "c:\\users\\mansi\\anaconda3\\envs\\project\\lib\\site-packages\\seaborn\\_decorators.py:43: FutureWarning: Pass the following variable as a keyword arg: x. From version 0.12, the only valid positional argument will be `data`, and passing other arguments without an explicit keyword will result in an error or misinterpretation.\n",
      "  FutureWarning\n"
     ]
    },
    {
     "data": {
      "text/plain": [
       "<AxesSubplot:xlabel='newbalanceOrig'>"
      ]
     },
     "execution_count": 31,
     "metadata": {},
     "output_type": "execute_result"
    },
    {
     "data": {
      "image/png": "[encoded data removed]",
      "text/plain": [
       "<Figure size 432x288 with 1 Axes>"
      ]
     },
     "metadata": {
      "needs_background": "light"
     },
     "output_type": "display_data"
    }
   ],
   "source": [
    "sns.boxplot(dataset['newbalanceOrig'])"
   ]
  },
  {
   "cell_type": "code",
   "execution_count": 32,
   "id": "a13852a0",
   "metadata": {},
   "outputs": [
    {
     "data": {
      "text/plain": [
       "0    6354407\n",
       "1       8213\n",
       "Name: isFraud, dtype: int64"
      ]
     },
     "execution_count": 32,
     "metadata": {},
     "output_type": "execute_result"
    }
   ],
   "source": [
    "dataset[target].value_counts()"
   ]
  },
  {
   "cell_type": "code",
   "execution_count": 33,
   "id": "708f43a0",
   "metadata": {},
   "outputs": [
    {
     "data": {
      "text/plain": [
       "0    6198533\n",
       "1       8156\n",
       "Name: isFraud, dtype: int64"
      ]
     },
     "execution_count": 33,
     "metadata": {},
     "output_type": "execute_result"
    }
   ],
   "source": [
    "dataset[np.abs(zscore(dataset['newbalanceOrig'])) < 3][target].value_counts()"
   ]
  },
  {
   "cell_type": "code",
   "execution_count": 34,
   "id": "cb2c888e",
   "metadata": {},
   "outputs": [
    {
     "data": {
      "text/plain": [
       "(6362620, 11)"
      ]
     },
     "execution_count": 34,
     "metadata": {},
     "output_type": "execute_result"
    }
   ],
   "source": [
    "dataset.shape"
   ]
  },
  {
   "cell_type": "code",
   "execution_count": 35,
   "id": "847acb9a",
   "metadata": {},
   "outputs": [],
   "source": [
    "dataset = dataset[np.abs(zscore(dataset['newbalanceOrig'])) < 3]"
   ]
  },
  {
   "cell_type": "code",
   "execution_count": 36,
   "id": "6b3f35b7",
   "metadata": {},
   "outputs": [
    {
     "data": {
      "text/plain": [
       "(6206689, 11)"
      ]
     },
     "execution_count": 36,
     "metadata": {},
     "output_type": "execute_result"
    }
   ],
   "source": [
    "dataset.shape"
   ]
  },
  {
   "cell_type": "code",
   "execution_count": 37,
   "id": "8c20ced6",
   "metadata": {},
   "outputs": [
    {
     "data": {
      "text/html": [
       "<div>\n",
       "<style scoped>\n",
       "    .dataframe tbody tr th:only-of-type {\n",
       "        vertical-align: middle;\n",
       "    }\n",
       "\n",
       "    .dataframe tbody tr th {\n",
       "        vertical-align: top;\n",
       "    }\n",
       "\n",
       "    .dataframe thead th {\n",
       "        text-align: right;\n",
       "    }\n",
       "</style>\n",
       "<table border=\"1\" class=\"dataframe\">\n",
       "  <thead>\n",
       "    <tr style=\"text-align: right;\">\n",
       "      <th></th>\n",
       "      <th>step</th>\n",
       "      <th>type</th>\n",
       "      <th>amount</th>\n",
       "      <th>nameOrig</th>\n",
       "      <th>oldbalanceOrg</th>\n",
       "      <th>newbalanceOrig</th>\n",
       "      <th>nameDest</th>\n",
       "      <th>oldbalanceDest</th>\n",
       "      <th>newbalanceDest</th>\n",
       "      <th>isFraud</th>\n",
       "      <th>isFlaggedFraud</th>\n",
       "    </tr>\n",
       "  </thead>\n",
       "  <tbody>\n",
       "    <tr>\n",
       "      <th>0</th>\n",
       "      <td>1</td>\n",
       "      <td>PAYMENT</td>\n",
       "      <td>9839.64</td>\n",
       "      <td>C1231006815</td>\n",
       "      <td>170136.0</td>\n",
       "      <td>160296.36</td>\n",
       "      <td>M1979787155</td>\n",
       "      <td>0.0</td>\n",
       "      <td>0.0</td>\n",
       "      <td>0</td>\n",
       "      <td>0</td>\n",
       "    </tr>\n",
       "    <tr>\n",
       "      <th>1</th>\n",
       "      <td>1</td>\n",
       "      <td>PAYMENT</td>\n",
       "      <td>1864.28</td>\n",
       "      <td>C1666544295</td>\n",
       "      <td>21249.0</td>\n",
       "      <td>19384.72</td>\n",
       "      <td>M2044282225</td>\n",
       "      <td>0.0</td>\n",
       "      <td>0.0</td>\n",
       "      <td>0</td>\n",
       "      <td>0</td>\n",
       "    </tr>\n",
       "    <tr>\n",
       "      <th>2</th>\n",
       "      <td>1</td>\n",
       "      <td>TRANSFER</td>\n",
       "      <td>181.00</td>\n",
       "      <td>C1305486145</td>\n",
       "      <td>181.0</td>\n",
       "      <td>0.00</td>\n",
       "      <td>C553264065</td>\n",
       "      <td>0.0</td>\n",
       "      <td>0.0</td>\n",
       "      <td>1</td>\n",
       "      <td>0</td>\n",
       "    </tr>\n",
       "    <tr>\n",
       "      <th>3</th>\n",
       "      <td>1</td>\n",
       "      <td>CASH_OUT</td>\n",
       "      <td>181.00</td>\n",
       "      <td>C840083671</td>\n",
       "      <td>181.0</td>\n",
       "      <td>0.00</td>\n",
       "      <td>C38997010</td>\n",
       "      <td>21182.0</td>\n",
       "      <td>0.0</td>\n",
       "      <td>1</td>\n",
       "      <td>0</td>\n",
       "    </tr>\n",
       "    <tr>\n",
       "      <th>4</th>\n",
       "      <td>1</td>\n",
       "      <td>PAYMENT</td>\n",
       "      <td>11668.14</td>\n",
       "      <td>C2048537720</td>\n",
       "      <td>41554.0</td>\n",
       "      <td>29885.86</td>\n",
       "      <td>M1230701703</td>\n",
       "      <td>0.0</td>\n",
       "      <td>0.0</td>\n",
       "      <td>0</td>\n",
       "      <td>0</td>\n",
       "    </tr>\n",
       "  </tbody>\n",
       "</table>\n",
       "</div>"
      ],
      "text/plain": [
       "   step      type    amount     nameOrig  oldbalanceOrg  newbalanceOrig  \\\n",
       "0     1   PAYMENT   9839.64  C1231006815       170136.0       160296.36   \n",
       "1     1   PAYMENT   1864.28  C1666544295        21249.0        19384.72   \n",
       "2     1  TRANSFER    181.00  C1305486145          181.0            0.00   \n",
       "3     1  CASH_OUT    181.00   C840083671          181.0            0.00   \n",
       "4     1   PAYMENT  11668.14  C2048537720        41554.0        29885.86   \n",
       "\n",
       "      nameDest  oldbalanceDest  newbalanceDest  isFraud  isFlaggedFraud  \n",
       "0  M1979787155             0.0             0.0        0               0  \n",
       "1  M2044282225             0.0             0.0        0               0  \n",
       "2   C553264065             0.0             0.0        1               0  \n",
       "3    C38997010         21182.0             0.0        1               0  \n",
       "4  M1230701703             0.0             0.0        0               0  "
      ]
     },
     "execution_count": 37,
     "metadata": {},
     "output_type": "execute_result"
    }
   ],
   "source": [
    "dataset.head()"
   ]
  },
  {
   "cell_type": "code",
   "execution_count": 38,
   "id": "ed55439e",
   "metadata": {},
   "outputs": [
    {
     "name": "stderr",
     "output_type": "stream",
     "text": [
      "c:\\users\\mansi\\anaconda3\\envs\\project\\lib\\site-packages\\seaborn\\distributions.py:2557: FutureWarning: `distplot` is a deprecated function and will be removed in a future version. Please adapt your code to use either `displot` (a figure-level function with similar flexibility) or `histplot` (an axes-level function for histograms).\n",
      "  warnings.warn(msg, FutureWarning)\n"
     ]
    },
    {
     "data": {
      "text/plain": [
       "<AxesSubplot:xlabel='oldbalanceDest', ylabel='Density'>"
      ]
     },
     "execution_count": 38,
     "metadata": {},
     "output_type": "execute_result"
    },
    {
     "data": {
      "image/png": "[encoded data removed]",
      "text/plain": [
       "<Figure size 432x432 with 1 Axes>"
      ]
     },
     "metadata": {
      "needs_background": "light"
     },
     "output_type": "display_data"
    }
   ],
   "source": [
    "plt.figure(figsize=[6, 6])\n",
    "sns.distplot(dataset['oldbalanceDest'], color = 'b', hist_kws=dict(edgecolor='black', linewidth=2), bins=50)"
   ]
  },
  {
   "cell_type": "code",
   "execution_count": 39,
   "id": "010b1f7c",
   "metadata": {},
   "outputs": [
    {
     "data": {
      "text/html": [
       "<div>\n",
       "<style scoped>\n",
       "    .dataframe tbody tr th:only-of-type {\n",
       "        vertical-align: middle;\n",
       "    }\n",
       "\n",
       "    .dataframe tbody tr th {\n",
       "        vertical-align: top;\n",
       "    }\n",
       "\n",
       "    .dataframe thead th {\n",
       "        text-align: right;\n",
       "    }\n",
       "</style>\n",
       "<table border=\"1\" class=\"dataframe\">\n",
       "  <thead>\n",
       "    <tr style=\"text-align: right;\">\n",
       "      <th></th>\n",
       "      <th>step</th>\n",
       "      <th>type</th>\n",
       "      <th>amount</th>\n",
       "      <th>nameOrig</th>\n",
       "      <th>oldbalanceOrg</th>\n",
       "      <th>newbalanceOrig</th>\n",
       "      <th>nameDest</th>\n",
       "      <th>oldbalanceDest</th>\n",
       "      <th>newbalanceDest</th>\n",
       "      <th>isFraud</th>\n",
       "      <th>isFlaggedFraud</th>\n",
       "    </tr>\n",
       "  </thead>\n",
       "  <tbody>\n",
       "    <tr>\n",
       "      <th>0</th>\n",
       "      <td>1</td>\n",
       "      <td>PAYMENT</td>\n",
       "      <td>9839.64</td>\n",
       "      <td>C1231006815</td>\n",
       "      <td>170136.0</td>\n",
       "      <td>160296.36</td>\n",
       "      <td>M1979787155</td>\n",
       "      <td>0.0</td>\n",
       "      <td>0.0</td>\n",
       "      <td>0</td>\n",
       "      <td>0</td>\n",
       "    </tr>\n",
       "    <tr>\n",
       "      <th>1</th>\n",
       "      <td>1</td>\n",
       "      <td>PAYMENT</td>\n",
       "      <td>1864.28</td>\n",
       "      <td>C1666544295</td>\n",
       "      <td>21249.0</td>\n",
       "      <td>19384.72</td>\n",
       "      <td>M2044282225</td>\n",
       "      <td>0.0</td>\n",
       "      <td>0.0</td>\n",
       "      <td>0</td>\n",
       "      <td>0</td>\n",
       "    </tr>\n",
       "    <tr>\n",
       "      <th>4</th>\n",
       "      <td>1</td>\n",
       "      <td>PAYMENT</td>\n",
       "      <td>11668.14</td>\n",
       "      <td>C2048537720</td>\n",
       "      <td>41554.0</td>\n",
       "      <td>29885.86</td>\n",
       "      <td>M1230701703</td>\n",
       "      <td>0.0</td>\n",
       "      <td>0.0</td>\n",
       "      <td>0</td>\n",
       "      <td>0</td>\n",
       "    </tr>\n",
       "    <tr>\n",
       "      <th>5</th>\n",
       "      <td>1</td>\n",
       "      <td>PAYMENT</td>\n",
       "      <td>7817.71</td>\n",
       "      <td>C90045638</td>\n",
       "      <td>53860.0</td>\n",
       "      <td>46042.29</td>\n",
       "      <td>M573487274</td>\n",
       "      <td>0.0</td>\n",
       "      <td>0.0</td>\n",
       "      <td>0</td>\n",
       "      <td>0</td>\n",
       "    </tr>\n",
       "    <tr>\n",
       "      <th>6</th>\n",
       "      <td>1</td>\n",
       "      <td>PAYMENT</td>\n",
       "      <td>7107.77</td>\n",
       "      <td>C154988899</td>\n",
       "      <td>183195.0</td>\n",
       "      <td>176087.23</td>\n",
       "      <td>M408069119</td>\n",
       "      <td>0.0</td>\n",
       "      <td>0.0</td>\n",
       "      <td>0</td>\n",
       "      <td>0</td>\n",
       "    </tr>\n",
       "    <tr>\n",
       "      <th>...</th>\n",
       "      <td>...</td>\n",
       "      <td>...</td>\n",
       "      <td>...</td>\n",
       "      <td>...</td>\n",
       "      <td>...</td>\n",
       "      <td>...</td>\n",
       "      <td>...</td>\n",
       "      <td>...</td>\n",
       "      <td>...</td>\n",
       "      <td>...</td>\n",
       "      <td>...</td>\n",
       "    </tr>\n",
       "    <tr>\n",
       "      <th>6362312</th>\n",
       "      <td>718</td>\n",
       "      <td>PAYMENT</td>\n",
       "      <td>8178.01</td>\n",
       "      <td>C1213413071</td>\n",
       "      <td>11742.0</td>\n",
       "      <td>3563.99</td>\n",
       "      <td>M1112540487</td>\n",
       "      <td>0.0</td>\n",
       "      <td>0.0</td>\n",
       "      <td>0</td>\n",
       "      <td>0</td>\n",
       "    </tr>\n",
       "    <tr>\n",
       "      <th>6362314</th>\n",
       "      <td>718</td>\n",
       "      <td>PAYMENT</td>\n",
       "      <td>17841.23</td>\n",
       "      <td>C1045048098</td>\n",
       "      <td>10182.0</td>\n",
       "      <td>0.00</td>\n",
       "      <td>M1878955882</td>\n",
       "      <td>0.0</td>\n",
       "      <td>0.0</td>\n",
       "      <td>0</td>\n",
       "      <td>0</td>\n",
       "    </tr>\n",
       "    <tr>\n",
       "      <th>6362316</th>\n",
       "      <td>718</td>\n",
       "      <td>PAYMENT</td>\n",
       "      <td>1022.91</td>\n",
       "      <td>C1203084509</td>\n",
       "      <td>12.0</td>\n",
       "      <td>0.00</td>\n",
       "      <td>M675916850</td>\n",
       "      <td>0.0</td>\n",
       "      <td>0.0</td>\n",
       "      <td>0</td>\n",
       "      <td>0</td>\n",
       "    </tr>\n",
       "    <tr>\n",
       "      <th>6362318</th>\n",
       "      <td>718</td>\n",
       "      <td>PAYMENT</td>\n",
       "      <td>4109.57</td>\n",
       "      <td>C673558958</td>\n",
       "      <td>5521.0</td>\n",
       "      <td>1411.43</td>\n",
       "      <td>M1126011651</td>\n",
       "      <td>0.0</td>\n",
       "      <td>0.0</td>\n",
       "      <td>0</td>\n",
       "      <td>0</td>\n",
       "    </tr>\n",
       "    <tr>\n",
       "      <th>6362319</th>\n",
       "      <td>718</td>\n",
       "      <td>PAYMENT</td>\n",
       "      <td>8634.29</td>\n",
       "      <td>C642813806</td>\n",
       "      <td>518802.0</td>\n",
       "      <td>510167.71</td>\n",
       "      <td>M747723689</td>\n",
       "      <td>0.0</td>\n",
       "      <td>0.0</td>\n",
       "      <td>0</td>\n",
       "      <td>0</td>\n",
       "    </tr>\n",
       "  </tbody>\n",
       "</table>\n",
       "<p>2151463 rows × 11 columns</p>\n",
       "</div>"
      ],
      "text/plain": [
       "         step     type    amount     nameOrig  oldbalanceOrg  newbalanceOrig  \\\n",
       "0           1  PAYMENT   9839.64  C1231006815       170136.0       160296.36   \n",
       "1           1  PAYMENT   1864.28  C1666544295        21249.0        19384.72   \n",
       "4           1  PAYMENT  11668.14  C2048537720        41554.0        29885.86   \n",
       "5           1  PAYMENT   7817.71    C90045638        53860.0        46042.29   \n",
       "6           1  PAYMENT   7107.77   C154988899       183195.0       176087.23   \n",
       "...       ...      ...       ...          ...            ...             ...   \n",
       "6362312   718  PAYMENT   8178.01  C1213413071        11742.0         3563.99   \n",
       "6362314   718  PAYMENT  17841.23  C1045048098        10182.0            0.00   \n",
       "6362316   718  PAYMENT   1022.91  C1203084509           12.0            0.00   \n",
       "6362318   718  PAYMENT   4109.57   C673558958         5521.0         1411.43   \n",
       "6362319   718  PAYMENT   8634.29   C642813806       518802.0       510167.71   \n",
       "\n",
       "            nameDest  oldbalanceDest  newbalanceDest  isFraud  isFlaggedFraud  \n",
       "0        M1979787155             0.0             0.0        0               0  \n",
       "1        M2044282225             0.0             0.0        0               0  \n",
       "4        M1230701703             0.0             0.0        0               0  \n",
       "5         M573487274             0.0             0.0        0               0  \n",
       "6         M408069119             0.0             0.0        0               0  \n",
       "...              ...             ...             ...      ...             ...  \n",
       "6362312  M1112540487             0.0             0.0        0               0  \n",
       "6362314  M1878955882             0.0             0.0        0               0  \n",
       "6362316   M675916850             0.0             0.0        0               0  \n",
       "6362318  M1126011651             0.0             0.0        0               0  \n",
       "6362319   M747723689             0.0             0.0        0               0  \n",
       "\n",
       "[2151463 rows x 11 columns]"
      ]
     },
     "execution_count": 39,
     "metadata": {},
     "output_type": "execute_result"
    }
   ],
   "source": [
    "dataset.loc[dataset['nameDest'].str.startswith('M')]"
   ]
  },
  {
   "cell_type": "code",
   "execution_count": 40,
   "id": "80c224a4",
   "metadata": {},
   "outputs": [
    {
     "data": {
      "text/plain": [
       "count    4.055226e+06\n",
       "mean     1.651459e+06\n",
       "std      4.063505e+06\n",
       "min      0.000000e+00\n",
       "25%      1.309067e+05\n",
       "50%      5.403535e+05\n",
       "75%      1.676901e+06\n",
       "max      3.560159e+08\n",
       "Name: oldbalanceDest, dtype: float64"
      ]
     },
     "execution_count": 40,
     "metadata": {},
     "output_type": "execute_result"
    }
   ],
   "source": [
    "dataset.loc[~dataset['nameDest'].str.startswith('M')]['oldbalanceDest'].describe()"
   ]
  },
  {
   "cell_type": "code",
   "execution_count": 41,
   "id": "efe01686",
   "metadata": {},
   "outputs": [
    {
     "data": {
      "text/plain": [
       "count    4.055226e+06\n",
       "mean     1.851962e+06\n",
       "std      4.397153e+06\n",
       "min      0.000000e+00\n",
       "25%      2.227342e+05\n",
       "50%      6.846676e+05\n",
       "75%      1.910200e+06\n",
       "max      3.561793e+08\n",
       "Name: newbalanceDest, dtype: float64"
      ]
     },
     "execution_count": 41,
     "metadata": {},
     "output_type": "execute_result"
    }
   ],
   "source": [
    "dataset.loc[~dataset['nameDest'].str.startswith('M')]['newbalanceDest'].describe()"
   ]
  },
  {
   "cell_type": "markdown",
   "id": "d186412d",
   "metadata": {},
   "source": [
    "Strategy : We have found all the rows with 'M's in there customer ID, we will have to impute all those 0.0s with median of the remaining values."
   ]
  },
  {
   "cell_type": "code",
   "execution_count": 42,
   "id": "7f5e7b07",
   "metadata": {},
   "outputs": [],
   "source": [
    "med_oldbalanceDest = dataset[~dataset['nameDest'].str.startswith('M')]['oldbalanceDest'].median()\n",
    "dataset.loc[dataset['nameDest'].str.startswith('M'), 'oldbalanceDest'] = med_oldbalanceDest"
   ]
  },
  {
   "cell_type": "code",
   "execution_count": 43,
   "id": "c9e0c594",
   "metadata": {},
   "outputs": [],
   "source": [
    "med_newbalanceDest = dataset[~dataset['nameDest'].str.startswith('M')]['newbalanceDest'].median()\n",
    "dataset.loc[dataset['nameDest'].str.startswith('M'), 'newbalanceDest'] = med_newbalanceDest"
   ]
  },
  {
   "cell_type": "code",
   "execution_count": 44,
   "id": "36ea8e46",
   "metadata": {},
   "outputs": [
    {
     "data": {
      "text/plain": [
       "0    6206679\n",
       "1         10\n",
       "Name: isFlaggedFraud, dtype: int64"
      ]
     },
     "execution_count": 44,
     "metadata": {},
     "output_type": "execute_result"
    }
   ],
   "source": [
    "dataset['isFlaggedFraud'].value_counts()"
   ]
  },
  {
   "cell_type": "markdown",
   "id": "7b91afa4",
   "metadata": {},
   "source": [
    "We will drop this feature"
   ]
  },
  {
   "cell_type": "code",
   "execution_count": 45,
   "id": "a6bf60d1",
   "metadata": {},
   "outputs": [
    {
     "data": {
      "text/html": [
       "<div>\n",
       "<style scoped>\n",
       "    .dataframe tbody tr th:only-of-type {\n",
       "        vertical-align: middle;\n",
       "    }\n",
       "\n",
       "    .dataframe tbody tr th {\n",
       "        vertical-align: top;\n",
       "    }\n",
       "\n",
       "    .dataframe thead th {\n",
       "        text-align: right;\n",
       "    }\n",
       "</style>\n",
       "<table border=\"1\" class=\"dataframe\">\n",
       "  <thead>\n",
       "    <tr style=\"text-align: right;\">\n",
       "      <th></th>\n",
       "      <th>step</th>\n",
       "      <th>type</th>\n",
       "      <th>amount</th>\n",
       "      <th>nameOrig</th>\n",
       "      <th>oldbalanceOrg</th>\n",
       "      <th>newbalanceOrig</th>\n",
       "      <th>nameDest</th>\n",
       "      <th>oldbalanceDest</th>\n",
       "      <th>newbalanceDest</th>\n",
       "      <th>isFraud</th>\n",
       "      <th>isFlaggedFraud</th>\n",
       "    </tr>\n",
       "  </thead>\n",
       "  <tbody>\n",
       "    <tr>\n",
       "      <th>0</th>\n",
       "      <td>1</td>\n",
       "      <td>PAYMENT</td>\n",
       "      <td>9839.64</td>\n",
       "      <td>C1231006815</td>\n",
       "      <td>170136.0</td>\n",
       "      <td>160296.36</td>\n",
       "      <td>M1979787155</td>\n",
       "      <td>540353.5</td>\n",
       "      <td>684667.645</td>\n",
       "      <td>0</td>\n",
       "      <td>0</td>\n",
       "    </tr>\n",
       "    <tr>\n",
       "      <th>1</th>\n",
       "      <td>1</td>\n",
       "      <td>PAYMENT</td>\n",
       "      <td>1864.28</td>\n",
       "      <td>C1666544295</td>\n",
       "      <td>21249.0</td>\n",
       "      <td>19384.72</td>\n",
       "      <td>M2044282225</td>\n",
       "      <td>540353.5</td>\n",
       "      <td>684667.645</td>\n",
       "      <td>0</td>\n",
       "      <td>0</td>\n",
       "    </tr>\n",
       "    <tr>\n",
       "      <th>2</th>\n",
       "      <td>1</td>\n",
       "      <td>TRANSFER</td>\n",
       "      <td>181.00</td>\n",
       "      <td>C1305486145</td>\n",
       "      <td>181.0</td>\n",
       "      <td>0.00</td>\n",
       "      <td>C553264065</td>\n",
       "      <td>0.0</td>\n",
       "      <td>0.000</td>\n",
       "      <td>1</td>\n",
       "      <td>0</td>\n",
       "    </tr>\n",
       "    <tr>\n",
       "      <th>3</th>\n",
       "      <td>1</td>\n",
       "      <td>CASH_OUT</td>\n",
       "      <td>181.00</td>\n",
       "      <td>C840083671</td>\n",
       "      <td>181.0</td>\n",
       "      <td>0.00</td>\n",
       "      <td>C38997010</td>\n",
       "      <td>21182.0</td>\n",
       "      <td>0.000</td>\n",
       "      <td>1</td>\n",
       "      <td>0</td>\n",
       "    </tr>\n",
       "    <tr>\n",
       "      <th>4</th>\n",
       "      <td>1</td>\n",
       "      <td>PAYMENT</td>\n",
       "      <td>11668.14</td>\n",
       "      <td>C2048537720</td>\n",
       "      <td>41554.0</td>\n",
       "      <td>29885.86</td>\n",
       "      <td>M1230701703</td>\n",
       "      <td>540353.5</td>\n",
       "      <td>684667.645</td>\n",
       "      <td>0</td>\n",
       "      <td>0</td>\n",
       "    </tr>\n",
       "  </tbody>\n",
       "</table>\n",
       "</div>"
      ],
      "text/plain": [
       "   step      type    amount     nameOrig  oldbalanceOrg  newbalanceOrig  \\\n",
       "0     1   PAYMENT   9839.64  C1231006815       170136.0       160296.36   \n",
       "1     1   PAYMENT   1864.28  C1666544295        21249.0        19384.72   \n",
       "2     1  TRANSFER    181.00  C1305486145          181.0            0.00   \n",
       "3     1  CASH_OUT    181.00   C840083671          181.0            0.00   \n",
       "4     1   PAYMENT  11668.14  C2048537720        41554.0        29885.86   \n",
       "\n",
       "      nameDest  oldbalanceDest  newbalanceDest  isFraud  isFlaggedFraud  \n",
       "0  M1979787155        540353.5      684667.645        0               0  \n",
       "1  M2044282225        540353.5      684667.645        0               0  \n",
       "2   C553264065             0.0           0.000        1               0  \n",
       "3    C38997010         21182.0           0.000        1               0  \n",
       "4  M1230701703        540353.5      684667.645        0               0  "
      ]
     },
     "execution_count": 45,
     "metadata": {},
     "output_type": "execute_result"
    }
   ],
   "source": [
    "dataset.head()"
   ]
  },
  {
   "cell_type": "code",
   "execution_count": 46,
   "id": "80aab93a",
   "metadata": {},
   "outputs": [
    {
     "data": {
      "text/html": [
       "<div>\n",
       "<style scoped>\n",
       "    .dataframe tbody tr th:only-of-type {\n",
       "        vertical-align: middle;\n",
       "    }\n",
       "\n",
       "    .dataframe tbody tr th {\n",
       "        vertical-align: top;\n",
       "    }\n",
       "\n",
       "    .dataframe thead th {\n",
       "        text-align: right;\n",
       "    }\n",
       "</style>\n",
       "<table border=\"1\" class=\"dataframe\">\n",
       "  <thead>\n",
       "    <tr style=\"text-align: right;\">\n",
       "      <th></th>\n",
       "      <th>step</th>\n",
       "      <th>amount</th>\n",
       "      <th>oldbalanceOrg</th>\n",
       "      <th>newbalanceOrig</th>\n",
       "      <th>oldbalanceDest</th>\n",
       "      <th>newbalanceDest</th>\n",
       "      <th>isFraud</th>\n",
       "      <th>isFlaggedFraud</th>\n",
       "    </tr>\n",
       "  </thead>\n",
       "  <tbody>\n",
       "    <tr>\n",
       "      <th>count</th>\n",
       "      <td>6.206689e+06</td>\n",
       "      <td>6.206689e+06</td>\n",
       "      <td>6.206689e+06</td>\n",
       "      <td>6.206689e+06</td>\n",
       "      <td>6.206689e+06</td>\n",
       "      <td>6.206689e+06</td>\n",
       "      <td>6.206689e+06</td>\n",
       "      <td>6.206689e+06</td>\n",
       "    </tr>\n",
       "    <tr>\n",
       "      <th>mean</th>\n",
       "      <td>2.436754e+02</td>\n",
       "      <td>1.802608e+05</td>\n",
       "      <td>4.585179e+05</td>\n",
       "      <td>4.763379e+05</td>\n",
       "      <td>1.266310e+06</td>\n",
       "      <td>1.447336e+06</td>\n",
       "      <td>1.314066e-03</td>\n",
       "      <td>1.611165e-06</td>\n",
       "    </tr>\n",
       "    <tr>\n",
       "      <th>std</th>\n",
       "      <td>1.425940e+02</td>\n",
       "      <td>6.103315e+05</td>\n",
       "      <td>1.436422e+06</td>\n",
       "      <td>1.474587e+06</td>\n",
       "      <td>3.326859e+06</td>\n",
       "      <td>3.597409e+06</td>\n",
       "      <td>3.622623e-02</td>\n",
       "      <td>1.269316e-03</td>\n",
       "    </tr>\n",
       "    <tr>\n",
       "      <th>min</th>\n",
       "      <td>1.000000e+00</td>\n",
       "      <td>0.000000e+00</td>\n",
       "      <td>0.000000e+00</td>\n",
       "      <td>0.000000e+00</td>\n",
       "      <td>0.000000e+00</td>\n",
       "      <td>0.000000e+00</td>\n",
       "      <td>0.000000e+00</td>\n",
       "      <td>0.000000e+00</td>\n",
       "    </tr>\n",
       "    <tr>\n",
       "      <th>25%</th>\n",
       "      <td>1.560000e+02</td>\n",
       "      <td>1.301407e+04</td>\n",
       "      <td>0.000000e+00</td>\n",
       "      <td>0.000000e+00</td>\n",
       "      <td>3.131448e+05</td>\n",
       "      <td>4.232226e+05</td>\n",
       "      <td>0.000000e+00</td>\n",
       "      <td>0.000000e+00</td>\n",
       "    </tr>\n",
       "    <tr>\n",
       "      <th>50%</th>\n",
       "      <td>2.390000e+02</td>\n",
       "      <td>7.259364e+04</td>\n",
       "      <td>1.189500e+04</td>\n",
       "      <td>0.000000e+00</td>\n",
       "      <td>5.403535e+05</td>\n",
       "      <td>6.846676e+05</td>\n",
       "      <td>0.000000e+00</td>\n",
       "      <td>0.000000e+00</td>\n",
       "    </tr>\n",
       "    <tr>\n",
       "      <th>75%</th>\n",
       "      <td>3.350000e+02</td>\n",
       "      <td>2.080536e+05</td>\n",
       "      <td>9.902900e+04</td>\n",
       "      <td>1.146816e+05</td>\n",
       "      <td>9.099508e+05</td>\n",
       "      <td>1.090811e+06</td>\n",
       "      <td>0.000000e+00</td>\n",
       "      <td>0.000000e+00</td>\n",
       "    </tr>\n",
       "    <tr>\n",
       "      <th>max</th>\n",
       "      <td>7.430000e+02</td>\n",
       "      <td>9.244552e+07</td>\n",
       "      <td>1.959384e+07</td>\n",
       "      <td>9.627251e+06</td>\n",
       "      <td>3.560159e+08</td>\n",
       "      <td>3.561793e+08</td>\n",
       "      <td>1.000000e+00</td>\n",
       "      <td>1.000000e+00</td>\n",
       "    </tr>\n",
       "  </tbody>\n",
       "</table>\n",
       "</div>"
      ],
      "text/plain": [
       "               step        amount  oldbalanceOrg  newbalanceOrig  \\\n",
       "count  6.206689e+06  6.206689e+06   6.206689e+06    6.206689e+06   \n",
       "mean   2.436754e+02  1.802608e+05   4.585179e+05    4.763379e+05   \n",
       "std    1.425940e+02  6.103315e+05   1.436422e+06    1.474587e+06   \n",
       "min    1.000000e+00  0.000000e+00   0.000000e+00    0.000000e+00   \n",
       "25%    1.560000e+02  1.301407e+04   0.000000e+00    0.000000e+00   \n",
       "50%    2.390000e+02  7.259364e+04   1.189500e+04    0.000000e+00   \n",
       "75%    3.350000e+02  2.080536e+05   9.902900e+04    1.146816e+05   \n",
       "max    7.430000e+02  9.244552e+07   1.959384e+07    9.627251e+06   \n",
       "\n",
       "       oldbalanceDest  newbalanceDest       isFraud  isFlaggedFraud  \n",
       "count    6.206689e+06    6.206689e+06  6.206689e+06    6.206689e+06  \n",
       "mean     1.266310e+06    1.447336e+06  1.314066e-03    1.611165e-06  \n",
       "std      3.326859e+06    3.597409e+06  3.622623e-02    1.269316e-03  \n",
       "min      0.000000e+00    0.000000e+00  0.000000e+00    0.000000e+00  \n",
       "25%      3.131448e+05    4.232226e+05  0.000000e+00    0.000000e+00  \n",
       "50%      5.403535e+05    6.846676e+05  0.000000e+00    0.000000e+00  \n",
       "75%      9.099508e+05    1.090811e+06  0.000000e+00    0.000000e+00  \n",
       "max      3.560159e+08    3.561793e+08  1.000000e+00    1.000000e+00  "
      ]
     },
     "metadata": {},
     "output_type": "display_data"
    }
   ],
   "source": [
    "display(dataset.describe())"
   ]
  },
  {
   "cell_type": "markdown",
   "id": "f6b9ef2b",
   "metadata": {},
   "source": [
    "Let's analyse some features"
   ]
  },
  {
   "cell_type": "code",
   "execution_count": 47,
   "id": "43a6a376",
   "metadata": {},
   "outputs": [
    {
     "data": {
      "text/plain": [
       "0.00          2102449\n",
       "184.00            918\n",
       "133.00            914\n",
       "195.00            912\n",
       "164.00            909\n",
       "               ...   \n",
       "3026748.98          1\n",
       "6378660.64          1\n",
       "487776.92           1\n",
       "3026839.23          1\n",
       "617029.60           1\n",
       "Name: oldbalanceOrg, Length: 1689924, dtype: int64"
      ]
     },
     "execution_count": 47,
     "metadata": {},
     "output_type": "execute_result"
    }
   ],
   "source": [
    "dataset['oldbalanceOrg'].value_counts()"
   ]
  },
  {
   "cell_type": "code",
   "execution_count": 48,
   "id": "7c5b922d",
   "metadata": {},
   "outputs": [
    {
     "data": {
      "text/plain": [
       "0.00          3609566\n",
       "15073.44            4\n",
       "36875.73            4\n",
       "366.96              4\n",
       "45633.24            4\n",
       "               ...   \n",
       "161971.20           1\n",
       "282237.12           1\n",
       "163661.30           1\n",
       "3266471.84          1\n",
       "859672.40           1\n",
       "Name: newbalanceOrig, Length: 2526670, dtype: int64"
      ]
     },
     "execution_count": 48,
     "metadata": {},
     "output_type": "execute_result"
    }
   ],
   "source": [
    "dataset['newbalanceOrig'].value_counts()"
   ]
  },
  {
   "cell_type": "code",
   "execution_count": 49,
   "id": "334c62f7",
   "metadata": {},
   "outputs": [
    {
     "data": {
      "text/html": [
       "<div>\n",
       "<style scoped>\n",
       "    .dataframe tbody tr th:only-of-type {\n",
       "        vertical-align: middle;\n",
       "    }\n",
       "\n",
       "    .dataframe tbody tr th {\n",
       "        vertical-align: top;\n",
       "    }\n",
       "\n",
       "    .dataframe thead th {\n",
       "        text-align: right;\n",
       "    }\n",
       "</style>\n",
       "<table border=\"1\" class=\"dataframe\">\n",
       "  <thead>\n",
       "    <tr style=\"text-align: right;\">\n",
       "      <th></th>\n",
       "      <th>step</th>\n",
       "      <th>type</th>\n",
       "      <th>amount</th>\n",
       "      <th>nameOrig</th>\n",
       "      <th>oldbalanceOrg</th>\n",
       "      <th>newbalanceOrig</th>\n",
       "      <th>nameDest</th>\n",
       "      <th>oldbalanceDest</th>\n",
       "      <th>newbalanceDest</th>\n",
       "      <th>isFraud</th>\n",
       "      <th>isFlaggedFraud</th>\n",
       "    </tr>\n",
       "  </thead>\n",
       "  <tbody>\n",
       "    <tr>\n",
       "      <th>29</th>\n",
       "      <td>1</td>\n",
       "      <td>PAYMENT</td>\n",
       "      <td>9920.52</td>\n",
       "      <td>C764826684</td>\n",
       "      <td>0.0</td>\n",
       "      <td>0.0</td>\n",
       "      <td>M1940055334</td>\n",
       "      <td>540353.50</td>\n",
       "      <td>684667.645</td>\n",
       "      <td>0</td>\n",
       "      <td>0</td>\n",
       "    </tr>\n",
       "    <tr>\n",
       "      <th>30</th>\n",
       "      <td>1</td>\n",
       "      <td>PAYMENT</td>\n",
       "      <td>3448.92</td>\n",
       "      <td>C2103763750</td>\n",
       "      <td>0.0</td>\n",
       "      <td>0.0</td>\n",
       "      <td>M335107734</td>\n",
       "      <td>540353.50</td>\n",
       "      <td>684667.645</td>\n",
       "      <td>0</td>\n",
       "      <td>0</td>\n",
       "    </tr>\n",
       "    <tr>\n",
       "      <th>31</th>\n",
       "      <td>1</td>\n",
       "      <td>PAYMENT</td>\n",
       "      <td>4206.84</td>\n",
       "      <td>C215078753</td>\n",
       "      <td>0.0</td>\n",
       "      <td>0.0</td>\n",
       "      <td>M1757317128</td>\n",
       "      <td>540353.50</td>\n",
       "      <td>684667.645</td>\n",
       "      <td>0</td>\n",
       "      <td>0</td>\n",
       "    </tr>\n",
       "    <tr>\n",
       "      <th>32</th>\n",
       "      <td>1</td>\n",
       "      <td>PAYMENT</td>\n",
       "      <td>5885.56</td>\n",
       "      <td>C840514538</td>\n",
       "      <td>0.0</td>\n",
       "      <td>0.0</td>\n",
       "      <td>M1804441305</td>\n",
       "      <td>540353.50</td>\n",
       "      <td>684667.645</td>\n",
       "      <td>0</td>\n",
       "      <td>0</td>\n",
       "    </tr>\n",
       "    <tr>\n",
       "      <th>33</th>\n",
       "      <td>1</td>\n",
       "      <td>PAYMENT</td>\n",
       "      <td>5307.88</td>\n",
       "      <td>C1768242710</td>\n",
       "      <td>0.0</td>\n",
       "      <td>0.0</td>\n",
       "      <td>M1971783162</td>\n",
       "      <td>540353.50</td>\n",
       "      <td>684667.645</td>\n",
       "      <td>0</td>\n",
       "      <td>0</td>\n",
       "    </tr>\n",
       "    <tr>\n",
       "      <th>...</th>\n",
       "      <td>...</td>\n",
       "      <td>...</td>\n",
       "      <td>...</td>\n",
       "      <td>...</td>\n",
       "      <td>...</td>\n",
       "      <td>...</td>\n",
       "      <td>...</td>\n",
       "      <td>...</td>\n",
       "      <td>...</td>\n",
       "      <td>...</td>\n",
       "      <td>...</td>\n",
       "    </tr>\n",
       "    <tr>\n",
       "      <th>6356052</th>\n",
       "      <td>709</td>\n",
       "      <td>CASH_OUT</td>\n",
       "      <td>123403.11</td>\n",
       "      <td>C1054278487</td>\n",
       "      <td>0.0</td>\n",
       "      <td>0.0</td>\n",
       "      <td>C1948756721</td>\n",
       "      <td>606875.62</td>\n",
       "      <td>730278.740</td>\n",
       "      <td>0</td>\n",
       "      <td>0</td>\n",
       "    </tr>\n",
       "    <tr>\n",
       "      <th>6356244</th>\n",
       "      <td>709</td>\n",
       "      <td>PAYMENT</td>\n",
       "      <td>14499.40</td>\n",
       "      <td>C1009494758</td>\n",
       "      <td>0.0</td>\n",
       "      <td>0.0</td>\n",
       "      <td>M840318507</td>\n",
       "      <td>540353.50</td>\n",
       "      <td>684667.645</td>\n",
       "      <td>0</td>\n",
       "      <td>0</td>\n",
       "    </tr>\n",
       "    <tr>\n",
       "      <th>6362461</th>\n",
       "      <td>730</td>\n",
       "      <td>CASH_OUT</td>\n",
       "      <td>0.00</td>\n",
       "      <td>C729003789</td>\n",
       "      <td>0.0</td>\n",
       "      <td>0.0</td>\n",
       "      <td>C1388096959</td>\n",
       "      <td>1008609.53</td>\n",
       "      <td>1008609.530</td>\n",
       "      <td>1</td>\n",
       "      <td>0</td>\n",
       "    </tr>\n",
       "    <tr>\n",
       "      <th>6362463</th>\n",
       "      <td>730</td>\n",
       "      <td>CASH_OUT</td>\n",
       "      <td>0.00</td>\n",
       "      <td>C2088151490</td>\n",
       "      <td>0.0</td>\n",
       "      <td>0.0</td>\n",
       "      <td>C1156763710</td>\n",
       "      <td>0.00</td>\n",
       "      <td>0.000</td>\n",
       "      <td>1</td>\n",
       "      <td>0</td>\n",
       "    </tr>\n",
       "    <tr>\n",
       "      <th>6362585</th>\n",
       "      <td>741</td>\n",
       "      <td>CASH_OUT</td>\n",
       "      <td>0.00</td>\n",
       "      <td>C312737633</td>\n",
       "      <td>0.0</td>\n",
       "      <td>0.0</td>\n",
       "      <td>C1400061387</td>\n",
       "      <td>267522.87</td>\n",
       "      <td>267522.870</td>\n",
       "      <td>1</td>\n",
       "      <td>0</td>\n",
       "    </tr>\n",
       "  </tbody>\n",
       "</table>\n",
       "<p>2102449 rows × 11 columns</p>\n",
       "</div>"
      ],
      "text/plain": [
       "         step      type     amount     nameOrig  oldbalanceOrg  \\\n",
       "29          1   PAYMENT    9920.52   C764826684            0.0   \n",
       "30          1   PAYMENT    3448.92  C2103763750            0.0   \n",
       "31          1   PAYMENT    4206.84   C215078753            0.0   \n",
       "32          1   PAYMENT    5885.56   C840514538            0.0   \n",
       "33          1   PAYMENT    5307.88  C1768242710            0.0   \n",
       "...       ...       ...        ...          ...            ...   \n",
       "6356052   709  CASH_OUT  123403.11  C1054278487            0.0   \n",
       "6356244   709   PAYMENT   14499.40  C1009494758            0.0   \n",
       "6362461   730  CASH_OUT       0.00   C729003789            0.0   \n",
       "6362463   730  CASH_OUT       0.00  C2088151490            0.0   \n",
       "6362585   741  CASH_OUT       0.00   C312737633            0.0   \n",
       "\n",
       "         newbalanceOrig     nameDest  oldbalanceDest  newbalanceDest  isFraud  \\\n",
       "29                  0.0  M1940055334       540353.50      684667.645        0   \n",
       "30                  0.0   M335107734       540353.50      684667.645        0   \n",
       "31                  0.0  M1757317128       540353.50      684667.645        0   \n",
       "32                  0.0  M1804441305       540353.50      684667.645        0   \n",
       "33                  0.0  M1971783162       540353.50      684667.645        0   \n",
       "...                 ...          ...             ...             ...      ...   \n",
       "6356052             0.0  C1948756721       606875.62      730278.740        0   \n",
       "6356244             0.0   M840318507       540353.50      684667.645        0   \n",
       "6362461             0.0  C1388096959      1008609.53     1008609.530        1   \n",
       "6362463             0.0  C1156763710            0.00           0.000        1   \n",
       "6362585             0.0  C1400061387       267522.87      267522.870        1   \n",
       "\n",
       "         isFlaggedFraud  \n",
       "29                    0  \n",
       "30                    0  \n",
       "31                    0  \n",
       "32                    0  \n",
       "33                    0  \n",
       "...                 ...  \n",
       "6356052               0  \n",
       "6356244               0  \n",
       "6362461               0  \n",
       "6362463               0  \n",
       "6362585               0  \n",
       "\n",
       "[2102449 rows x 11 columns]"
      ]
     },
     "execution_count": 49,
     "metadata": {},
     "output_type": "execute_result"
    }
   ],
   "source": [
    "dataset.loc[dataset['oldbalanceOrg'] == 0.0, :]"
   ]
  },
  {
   "cell_type": "code",
   "execution_count": 50,
   "id": "3ffb4ce7",
   "metadata": {},
   "outputs": [
    {
     "data": {
      "text/html": [
       "<div>\n",
       "<style scoped>\n",
       "    .dataframe tbody tr th:only-of-type {\n",
       "        vertical-align: middle;\n",
       "    }\n",
       "\n",
       "    .dataframe tbody tr th {\n",
       "        vertical-align: top;\n",
       "    }\n",
       "\n",
       "    .dataframe thead th {\n",
       "        text-align: right;\n",
       "    }\n",
       "</style>\n",
       "<table border=\"1\" class=\"dataframe\">\n",
       "  <thead>\n",
       "    <tr style=\"text-align: right;\">\n",
       "      <th></th>\n",
       "      <th>step</th>\n",
       "      <th>type</th>\n",
       "      <th>amount</th>\n",
       "      <th>nameOrig</th>\n",
       "      <th>oldbalanceOrg</th>\n",
       "      <th>newbalanceOrig</th>\n",
       "      <th>nameDest</th>\n",
       "      <th>oldbalanceDest</th>\n",
       "      <th>newbalanceDest</th>\n",
       "      <th>isFraud</th>\n",
       "      <th>isFlaggedFraud</th>\n",
       "    </tr>\n",
       "  </thead>\n",
       "  <tbody>\n",
       "    <tr>\n",
       "      <th>2</th>\n",
       "      <td>1</td>\n",
       "      <td>TRANSFER</td>\n",
       "      <td>181.00</td>\n",
       "      <td>C1305486145</td>\n",
       "      <td>181.00</td>\n",
       "      <td>0.0</td>\n",
       "      <td>C553264065</td>\n",
       "      <td>0.00</td>\n",
       "      <td>0.000</td>\n",
       "      <td>1</td>\n",
       "      <td>0</td>\n",
       "    </tr>\n",
       "    <tr>\n",
       "      <th>3</th>\n",
       "      <td>1</td>\n",
       "      <td>CASH_OUT</td>\n",
       "      <td>181.00</td>\n",
       "      <td>C840083671</td>\n",
       "      <td>181.00</td>\n",
       "      <td>0.0</td>\n",
       "      <td>C38997010</td>\n",
       "      <td>21182.00</td>\n",
       "      <td>0.000</td>\n",
       "      <td>1</td>\n",
       "      <td>0</td>\n",
       "    </tr>\n",
       "    <tr>\n",
       "      <th>8</th>\n",
       "      <td>1</td>\n",
       "      <td>PAYMENT</td>\n",
       "      <td>4024.36</td>\n",
       "      <td>C1265012928</td>\n",
       "      <td>2671.00</td>\n",
       "      <td>0.0</td>\n",
       "      <td>M1176932104</td>\n",
       "      <td>540353.50</td>\n",
       "      <td>684667.645</td>\n",
       "      <td>0</td>\n",
       "      <td>0</td>\n",
       "    </tr>\n",
       "    <tr>\n",
       "      <th>10</th>\n",
       "      <td>1</td>\n",
       "      <td>DEBIT</td>\n",
       "      <td>9644.94</td>\n",
       "      <td>C1900366749</td>\n",
       "      <td>4465.00</td>\n",
       "      <td>0.0</td>\n",
       "      <td>C997608398</td>\n",
       "      <td>10845.00</td>\n",
       "      <td>157982.120</td>\n",
       "      <td>0</td>\n",
       "      <td>0</td>\n",
       "    </tr>\n",
       "    <tr>\n",
       "      <th>13</th>\n",
       "      <td>1</td>\n",
       "      <td>PAYMENT</td>\n",
       "      <td>11633.76</td>\n",
       "      <td>C1716932897</td>\n",
       "      <td>10127.00</td>\n",
       "      <td>0.0</td>\n",
       "      <td>M801569151</td>\n",
       "      <td>540353.50</td>\n",
       "      <td>684667.645</td>\n",
       "      <td>0</td>\n",
       "      <td>0</td>\n",
       "    </tr>\n",
       "    <tr>\n",
       "      <th>...</th>\n",
       "      <td>...</td>\n",
       "      <td>...</td>\n",
       "      <td>...</td>\n",
       "      <td>...</td>\n",
       "      <td>...</td>\n",
       "      <td>...</td>\n",
       "      <td>...</td>\n",
       "      <td>...</td>\n",
       "      <td>...</td>\n",
       "      <td>...</td>\n",
       "      <td>...</td>\n",
       "    </tr>\n",
       "    <tr>\n",
       "      <th>6362615</th>\n",
       "      <td>743</td>\n",
       "      <td>CASH_OUT</td>\n",
       "      <td>339682.13</td>\n",
       "      <td>C786484425</td>\n",
       "      <td>339682.13</td>\n",
       "      <td>0.0</td>\n",
       "      <td>C776919290</td>\n",
       "      <td>0.00</td>\n",
       "      <td>339682.130</td>\n",
       "      <td>1</td>\n",
       "      <td>0</td>\n",
       "    </tr>\n",
       "    <tr>\n",
       "      <th>6362616</th>\n",
       "      <td>743</td>\n",
       "      <td>TRANSFER</td>\n",
       "      <td>6311409.28</td>\n",
       "      <td>C1529008245</td>\n",
       "      <td>6311409.28</td>\n",
       "      <td>0.0</td>\n",
       "      <td>C1881841831</td>\n",
       "      <td>0.00</td>\n",
       "      <td>0.000</td>\n",
       "      <td>1</td>\n",
       "      <td>0</td>\n",
       "    </tr>\n",
       "    <tr>\n",
       "      <th>6362617</th>\n",
       "      <td>743</td>\n",
       "      <td>CASH_OUT</td>\n",
       "      <td>6311409.28</td>\n",
       "      <td>C1162922333</td>\n",
       "      <td>6311409.28</td>\n",
       "      <td>0.0</td>\n",
       "      <td>C1365125890</td>\n",
       "      <td>68488.84</td>\n",
       "      <td>6379898.110</td>\n",
       "      <td>1</td>\n",
       "      <td>0</td>\n",
       "    </tr>\n",
       "    <tr>\n",
       "      <th>6362618</th>\n",
       "      <td>743</td>\n",
       "      <td>TRANSFER</td>\n",
       "      <td>850002.52</td>\n",
       "      <td>C1685995037</td>\n",
       "      <td>850002.52</td>\n",
       "      <td>0.0</td>\n",
       "      <td>C2080388513</td>\n",
       "      <td>0.00</td>\n",
       "      <td>0.000</td>\n",
       "      <td>1</td>\n",
       "      <td>0</td>\n",
       "    </tr>\n",
       "    <tr>\n",
       "      <th>6362619</th>\n",
       "      <td>743</td>\n",
       "      <td>CASH_OUT</td>\n",
       "      <td>850002.52</td>\n",
       "      <td>C1280323807</td>\n",
       "      <td>850002.52</td>\n",
       "      <td>0.0</td>\n",
       "      <td>C873221189</td>\n",
       "      <td>6510099.11</td>\n",
       "      <td>7360101.630</td>\n",
       "      <td>1</td>\n",
       "      <td>0</td>\n",
       "    </tr>\n",
       "  </tbody>\n",
       "</table>\n",
       "<p>3609566 rows × 11 columns</p>\n",
       "</div>"
      ],
      "text/plain": [
       "         step      type      amount     nameOrig  oldbalanceOrg  \\\n",
       "2           1  TRANSFER      181.00  C1305486145         181.00   \n",
       "3           1  CASH_OUT      181.00   C840083671         181.00   \n",
       "8           1   PAYMENT     4024.36  C1265012928        2671.00   \n",
       "10          1     DEBIT     9644.94  C1900366749        4465.00   \n",
       "13          1   PAYMENT    11633.76  C1716932897       10127.00   \n",
       "...       ...       ...         ...          ...            ...   \n",
       "6362615   743  CASH_OUT   339682.13   C786484425      339682.13   \n",
       "6362616   743  TRANSFER  6311409.28  C1529008245     6311409.28   \n",
       "6362617   743  CASH_OUT  6311409.28  C1162922333     6311409.28   \n",
       "6362618   743  TRANSFER   850002.52  C1685995037      850002.52   \n",
       "6362619   743  CASH_OUT   850002.52  C1280323807      850002.52   \n",
       "\n",
       "         newbalanceOrig     nameDest  oldbalanceDest  newbalanceDest  isFraud  \\\n",
       "2                   0.0   C553264065            0.00           0.000        1   \n",
       "3                   0.0    C38997010        21182.00           0.000        1   \n",
       "8                   0.0  M1176932104       540353.50      684667.645        0   \n",
       "10                  0.0   C997608398        10845.00      157982.120        0   \n",
       "13                  0.0   M801569151       540353.50      684667.645        0   \n",
       "...                 ...          ...             ...             ...      ...   \n",
       "6362615             0.0   C776919290            0.00      339682.130        1   \n",
       "6362616             0.0  C1881841831            0.00           0.000        1   \n",
       "6362617             0.0  C1365125890        68488.84     6379898.110        1   \n",
       "6362618             0.0  C2080388513            0.00           0.000        1   \n",
       "6362619             0.0   C873221189      6510099.11     7360101.630        1   \n",
       "\n",
       "         isFlaggedFraud  \n",
       "2                     0  \n",
       "3                     0  \n",
       "8                     0  \n",
       "10                    0  \n",
       "13                    0  \n",
       "...                 ...  \n",
       "6362615               0  \n",
       "6362616               0  \n",
       "6362617               0  \n",
       "6362618               0  \n",
       "6362619               0  \n",
       "\n",
       "[3609566 rows x 11 columns]"
      ]
     },
     "execution_count": 50,
     "metadata": {},
     "output_type": "execute_result"
    }
   ],
   "source": [
    "dataset.loc[dataset['newbalanceOrig'] == 0.0, :]"
   ]
  },
  {
   "cell_type": "markdown",
   "id": "68207fe6",
   "metadata": {},
   "source": [
    "Grouping these zero values of 'oldbalanceOrg' with type feature"
   ]
  },
  {
   "cell_type": "code",
   "execution_count": 51,
   "id": "6595fe4b",
   "metadata": {},
   "outputs": [
    {
     "data": {
      "text/plain": [
       "type\n",
       "CASH_IN       13464\n",
       "CASH_OUT    1025799\n",
       "DEBIT          6158\n",
       "PAYMENT      774245\n",
       "TRANSFER     282783\n",
       "dtype: int64"
      ]
     },
     "execution_count": 51,
     "metadata": {},
     "output_type": "execute_result"
    }
   ],
   "source": [
    "dataset.loc[dataset['oldbalanceOrg'] == 0, :].groupby(['type']).size()"
   ]
  },
  {
   "cell_type": "markdown",
   "id": "3b2292f4",
   "metadata": {},
   "source": [
    "Doing the same with 'newbalanceOrig'"
   ]
  },
  {
   "cell_type": "code",
   "execution_count": 52,
   "id": "5493927a",
   "metadata": {},
   "outputs": [
    {
     "data": {
      "text/plain": [
       "type\n",
       "CASH_OUT    1985211\n",
       "DEBIT         11786\n",
       "PAYMENT     1101124\n",
       "TRANSFER     511445\n",
       "dtype: int64"
      ]
     },
     "execution_count": 52,
     "metadata": {},
     "output_type": "execute_result"
    }
   ],
   "source": [
    "dataset.loc[dataset['newbalanceOrig'] == 0, :].groupby(['type']).size()"
   ]
  },
  {
   "cell_type": "code",
   "execution_count": 53,
   "id": "6d77c09d",
   "metadata": {},
   "outputs": [
    {
     "data": {
      "text/html": [
       "<div>\n",
       "<style scoped>\n",
       "    .dataframe tbody tr th:only-of-type {\n",
       "        vertical-align: middle;\n",
       "    }\n",
       "\n",
       "    .dataframe tbody tr th {\n",
       "        vertical-align: top;\n",
       "    }\n",
       "\n",
       "    .dataframe thead th {\n",
       "        text-align: right;\n",
       "    }\n",
       "</style>\n",
       "<table border=\"1\" class=\"dataframe\">\n",
       "  <thead>\n",
       "    <tr style=\"text-align: right;\">\n",
       "      <th></th>\n",
       "      <th>step</th>\n",
       "      <th>type</th>\n",
       "      <th>amount</th>\n",
       "      <th>nameOrig</th>\n",
       "      <th>oldbalanceOrg</th>\n",
       "      <th>newbalanceOrig</th>\n",
       "      <th>nameDest</th>\n",
       "      <th>oldbalanceDest</th>\n",
       "      <th>newbalanceDest</th>\n",
       "      <th>isFraud</th>\n",
       "      <th>isFlaggedFraud</th>\n",
       "    </tr>\n",
       "  </thead>\n",
       "  <tbody>\n",
       "    <tr>\n",
       "      <th>0</th>\n",
       "      <td>1</td>\n",
       "      <td>PAYMENT</td>\n",
       "      <td>9839.64</td>\n",
       "      <td>C1231006815</td>\n",
       "      <td>170136.0</td>\n",
       "      <td>160296.36</td>\n",
       "      <td>M1979787155</td>\n",
       "      <td>540353.5</td>\n",
       "      <td>684667.645</td>\n",
       "      <td>0</td>\n",
       "      <td>0</td>\n",
       "    </tr>\n",
       "    <tr>\n",
       "      <th>1</th>\n",
       "      <td>1</td>\n",
       "      <td>PAYMENT</td>\n",
       "      <td>1864.28</td>\n",
       "      <td>C1666544295</td>\n",
       "      <td>21249.0</td>\n",
       "      <td>19384.72</td>\n",
       "      <td>M2044282225</td>\n",
       "      <td>540353.5</td>\n",
       "      <td>684667.645</td>\n",
       "      <td>0</td>\n",
       "      <td>0</td>\n",
       "    </tr>\n",
       "    <tr>\n",
       "      <th>2</th>\n",
       "      <td>1</td>\n",
       "      <td>TRANSFER</td>\n",
       "      <td>181.00</td>\n",
       "      <td>C1305486145</td>\n",
       "      <td>181.0</td>\n",
       "      <td>0.00</td>\n",
       "      <td>C553264065</td>\n",
       "      <td>0.0</td>\n",
       "      <td>0.000</td>\n",
       "      <td>1</td>\n",
       "      <td>0</td>\n",
       "    </tr>\n",
       "    <tr>\n",
       "      <th>3</th>\n",
       "      <td>1</td>\n",
       "      <td>CASH_OUT</td>\n",
       "      <td>181.00</td>\n",
       "      <td>C840083671</td>\n",
       "      <td>181.0</td>\n",
       "      <td>0.00</td>\n",
       "      <td>C38997010</td>\n",
       "      <td>21182.0</td>\n",
       "      <td>0.000</td>\n",
       "      <td>1</td>\n",
       "      <td>0</td>\n",
       "    </tr>\n",
       "    <tr>\n",
       "      <th>4</th>\n",
       "      <td>1</td>\n",
       "      <td>PAYMENT</td>\n",
       "      <td>11668.14</td>\n",
       "      <td>C2048537720</td>\n",
       "      <td>41554.0</td>\n",
       "      <td>29885.86</td>\n",
       "      <td>M1230701703</td>\n",
       "      <td>540353.5</td>\n",
       "      <td>684667.645</td>\n",
       "      <td>0</td>\n",
       "      <td>0</td>\n",
       "    </tr>\n",
       "  </tbody>\n",
       "</table>\n",
       "</div>"
      ],
      "text/plain": [
       "   step      type    amount     nameOrig  oldbalanceOrg  newbalanceOrig  \\\n",
       "0     1   PAYMENT   9839.64  C1231006815       170136.0       160296.36   \n",
       "1     1   PAYMENT   1864.28  C1666544295        21249.0        19384.72   \n",
       "2     1  TRANSFER    181.00  C1305486145          181.0            0.00   \n",
       "3     1  CASH_OUT    181.00   C840083671          181.0            0.00   \n",
       "4     1   PAYMENT  11668.14  C2048537720        41554.0        29885.86   \n",
       "\n",
       "      nameDest  oldbalanceDest  newbalanceDest  isFraud  isFlaggedFraud  \n",
       "0  M1979787155        540353.5      684667.645        0               0  \n",
       "1  M2044282225        540353.5      684667.645        0               0  \n",
       "2   C553264065             0.0           0.000        1               0  \n",
       "3    C38997010         21182.0           0.000        1               0  \n",
       "4  M1230701703        540353.5      684667.645        0               0  "
      ]
     },
     "execution_count": 53,
     "metadata": {},
     "output_type": "execute_result"
    }
   ],
   "source": [
    "dataset.head()"
   ]
  },
  {
   "cell_type": "markdown",
   "id": "a9836f04",
   "metadata": {},
   "source": [
    "We are seeing a lot of 0.0 values this might be actually zero or these can be missing values, we will need to impute them if that is the case, but for now let's treat them actual 0.0s"
   ]
  },
  {
   "cell_type": "markdown",
   "id": "43aff8c6",
   "metadata": {},
   "source": [
    "Checking the correlation of these zero values with the customer ID"
   ]
  },
  {
   "cell_type": "code",
   "execution_count": 54,
   "id": "827cea9f",
   "metadata": {},
   "outputs": [
    {
     "data": {
      "text/html": [
       "<div>\n",
       "<style scoped>\n",
       "    .dataframe tbody tr th:only-of-type {\n",
       "        vertical-align: middle;\n",
       "    }\n",
       "\n",
       "    .dataframe tbody tr th {\n",
       "        vertical-align: top;\n",
       "    }\n",
       "\n",
       "    .dataframe thead th {\n",
       "        text-align: right;\n",
       "    }\n",
       "</style>\n",
       "<table border=\"1\" class=\"dataframe\">\n",
       "  <thead>\n",
       "    <tr style=\"text-align: right;\">\n",
       "      <th></th>\n",
       "      <th>step</th>\n",
       "      <th>type</th>\n",
       "      <th>amount</th>\n",
       "      <th>nameOrig</th>\n",
       "      <th>oldbalanceOrg</th>\n",
       "      <th>newbalanceOrig</th>\n",
       "      <th>nameDest</th>\n",
       "      <th>oldbalanceDest</th>\n",
       "      <th>newbalanceDest</th>\n",
       "      <th>isFraud</th>\n",
       "      <th>isFlaggedFraud</th>\n",
       "    </tr>\n",
       "  </thead>\n",
       "  <tbody>\n",
       "    <tr>\n",
       "      <th>29</th>\n",
       "      <td>1</td>\n",
       "      <td>PAYMENT</td>\n",
       "      <td>9920.52</td>\n",
       "      <td>C764826684</td>\n",
       "      <td>0.0</td>\n",
       "      <td>0.0</td>\n",
       "      <td>M1940055334</td>\n",
       "      <td>540353.50</td>\n",
       "      <td>684667.645</td>\n",
       "      <td>0</td>\n",
       "      <td>0</td>\n",
       "    </tr>\n",
       "    <tr>\n",
       "      <th>30</th>\n",
       "      <td>1</td>\n",
       "      <td>PAYMENT</td>\n",
       "      <td>3448.92</td>\n",
       "      <td>C2103763750</td>\n",
       "      <td>0.0</td>\n",
       "      <td>0.0</td>\n",
       "      <td>M335107734</td>\n",
       "      <td>540353.50</td>\n",
       "      <td>684667.645</td>\n",
       "      <td>0</td>\n",
       "      <td>0</td>\n",
       "    </tr>\n",
       "    <tr>\n",
       "      <th>31</th>\n",
       "      <td>1</td>\n",
       "      <td>PAYMENT</td>\n",
       "      <td>4206.84</td>\n",
       "      <td>C215078753</td>\n",
       "      <td>0.0</td>\n",
       "      <td>0.0</td>\n",
       "      <td>M1757317128</td>\n",
       "      <td>540353.50</td>\n",
       "      <td>684667.645</td>\n",
       "      <td>0</td>\n",
       "      <td>0</td>\n",
       "    </tr>\n",
       "    <tr>\n",
       "      <th>32</th>\n",
       "      <td>1</td>\n",
       "      <td>PAYMENT</td>\n",
       "      <td>5885.56</td>\n",
       "      <td>C840514538</td>\n",
       "      <td>0.0</td>\n",
       "      <td>0.0</td>\n",
       "      <td>M1804441305</td>\n",
       "      <td>540353.50</td>\n",
       "      <td>684667.645</td>\n",
       "      <td>0</td>\n",
       "      <td>0</td>\n",
       "    </tr>\n",
       "    <tr>\n",
       "      <th>33</th>\n",
       "      <td>1</td>\n",
       "      <td>PAYMENT</td>\n",
       "      <td>5307.88</td>\n",
       "      <td>C1768242710</td>\n",
       "      <td>0.0</td>\n",
       "      <td>0.0</td>\n",
       "      <td>M1971783162</td>\n",
       "      <td>540353.50</td>\n",
       "      <td>684667.645</td>\n",
       "      <td>0</td>\n",
       "      <td>0</td>\n",
       "    </tr>\n",
       "    <tr>\n",
       "      <th>...</th>\n",
       "      <td>...</td>\n",
       "      <td>...</td>\n",
       "      <td>...</td>\n",
       "      <td>...</td>\n",
       "      <td>...</td>\n",
       "      <td>...</td>\n",
       "      <td>...</td>\n",
       "      <td>...</td>\n",
       "      <td>...</td>\n",
       "      <td>...</td>\n",
       "      <td>...</td>\n",
       "    </tr>\n",
       "    <tr>\n",
       "      <th>6356052</th>\n",
       "      <td>709</td>\n",
       "      <td>CASH_OUT</td>\n",
       "      <td>123403.11</td>\n",
       "      <td>C1054278487</td>\n",
       "      <td>0.0</td>\n",
       "      <td>0.0</td>\n",
       "      <td>C1948756721</td>\n",
       "      <td>606875.62</td>\n",
       "      <td>730278.740</td>\n",
       "      <td>0</td>\n",
       "      <td>0</td>\n",
       "    </tr>\n",
       "    <tr>\n",
       "      <th>6356244</th>\n",
       "      <td>709</td>\n",
       "      <td>PAYMENT</td>\n",
       "      <td>14499.40</td>\n",
       "      <td>C1009494758</td>\n",
       "      <td>0.0</td>\n",
       "      <td>0.0</td>\n",
       "      <td>M840318507</td>\n",
       "      <td>540353.50</td>\n",
       "      <td>684667.645</td>\n",
       "      <td>0</td>\n",
       "      <td>0</td>\n",
       "    </tr>\n",
       "    <tr>\n",
       "      <th>6362461</th>\n",
       "      <td>730</td>\n",
       "      <td>CASH_OUT</td>\n",
       "      <td>0.00</td>\n",
       "      <td>C729003789</td>\n",
       "      <td>0.0</td>\n",
       "      <td>0.0</td>\n",
       "      <td>C1388096959</td>\n",
       "      <td>1008609.53</td>\n",
       "      <td>1008609.530</td>\n",
       "      <td>1</td>\n",
       "      <td>0</td>\n",
       "    </tr>\n",
       "    <tr>\n",
       "      <th>6362463</th>\n",
       "      <td>730</td>\n",
       "      <td>CASH_OUT</td>\n",
       "      <td>0.00</td>\n",
       "      <td>C2088151490</td>\n",
       "      <td>0.0</td>\n",
       "      <td>0.0</td>\n",
       "      <td>C1156763710</td>\n",
       "      <td>0.00</td>\n",
       "      <td>0.000</td>\n",
       "      <td>1</td>\n",
       "      <td>0</td>\n",
       "    </tr>\n",
       "    <tr>\n",
       "      <th>6362585</th>\n",
       "      <td>741</td>\n",
       "      <td>CASH_OUT</td>\n",
       "      <td>0.00</td>\n",
       "      <td>C312737633</td>\n",
       "      <td>0.0</td>\n",
       "      <td>0.0</td>\n",
       "      <td>C1400061387</td>\n",
       "      <td>267522.87</td>\n",
       "      <td>267522.870</td>\n",
       "      <td>1</td>\n",
       "      <td>0</td>\n",
       "    </tr>\n",
       "  </tbody>\n",
       "</table>\n",
       "<p>2102449 rows × 11 columns</p>\n",
       "</div>"
      ],
      "text/plain": [
       "         step      type     amount     nameOrig  oldbalanceOrg  \\\n",
       "29          1   PAYMENT    9920.52   C764826684            0.0   \n",
       "30          1   PAYMENT    3448.92  C2103763750            0.0   \n",
       "31          1   PAYMENT    4206.84   C215078753            0.0   \n",
       "32          1   PAYMENT    5885.56   C840514538            0.0   \n",
       "33          1   PAYMENT    5307.88  C1768242710            0.0   \n",
       "...       ...       ...        ...          ...            ...   \n",
       "6356052   709  CASH_OUT  123403.11  C1054278487            0.0   \n",
       "6356244   709   PAYMENT   14499.40  C1009494758            0.0   \n",
       "6362461   730  CASH_OUT       0.00   C729003789            0.0   \n",
       "6362463   730  CASH_OUT       0.00  C2088151490            0.0   \n",
       "6362585   741  CASH_OUT       0.00   C312737633            0.0   \n",
       "\n",
       "         newbalanceOrig     nameDest  oldbalanceDest  newbalanceDest  isFraud  \\\n",
       "29                  0.0  M1940055334       540353.50      684667.645        0   \n",
       "30                  0.0   M335107734       540353.50      684667.645        0   \n",
       "31                  0.0  M1757317128       540353.50      684667.645        0   \n",
       "32                  0.0  M1804441305       540353.50      684667.645        0   \n",
       "33                  0.0  M1971783162       540353.50      684667.645        0   \n",
       "...                 ...          ...             ...             ...      ...   \n",
       "6356052             0.0  C1948756721       606875.62      730278.740        0   \n",
       "6356244             0.0   M840318507       540353.50      684667.645        0   \n",
       "6362461             0.0  C1388096959      1008609.53     1008609.530        1   \n",
       "6362463             0.0  C1156763710            0.00           0.000        1   \n",
       "6362585             0.0  C1400061387       267522.87      267522.870        1   \n",
       "\n",
       "         isFlaggedFraud  \n",
       "29                    0  \n",
       "30                    0  \n",
       "31                    0  \n",
       "32                    0  \n",
       "33                    0  \n",
       "...                 ...  \n",
       "6356052               0  \n",
       "6356244               0  \n",
       "6362461               0  \n",
       "6362463               0  \n",
       "6362585               0  \n",
       "\n",
       "[2102449 rows x 11 columns]"
      ]
     },
     "execution_count": 54,
     "metadata": {},
     "output_type": "execute_result"
    }
   ],
   "source": [
    "dataset.loc[(dataset['oldbalanceOrg'] == 0) & (dataset['nameOrig'].str.startswith('C')), :]"
   ]
  },
  {
   "cell_type": "markdown",
   "id": "fec4f5d7",
   "metadata": {},
   "source": [
    "There are a lot of 0.0 values with customers who have ID starting with 'C's, we will have to check this out. This is true for both columns for 'oldbalanceOrg' and 'newbalanceOrig'. Seems like there isn't a single value in these columns which is zero and have IDs starting with 'M'"
   ]
  },
  {
   "cell_type": "code",
   "execution_count": 56,
   "id": "f2cc5b5b",
   "metadata": {},
   "outputs": [
    {
     "data": {
      "text/html": [
       "<div>\n",
       "<style scoped>\n",
       "    .dataframe tbody tr th:only-of-type {\n",
       "        vertical-align: middle;\n",
       "    }\n",
       "\n",
       "    .dataframe tbody tr th {\n",
       "        vertical-align: top;\n",
       "    }\n",
       "\n",
       "    .dataframe thead th {\n",
       "        text-align: right;\n",
       "    }\n",
       "</style>\n",
       "<table border=\"1\" class=\"dataframe\">\n",
       "  <thead>\n",
       "    <tr style=\"text-align: right;\">\n",
       "      <th>type</th>\n",
       "      <th>CASH_IN</th>\n",
       "      <th>CASH_OUT</th>\n",
       "      <th>DEBIT</th>\n",
       "      <th>PAYMENT</th>\n",
       "      <th>TRANSFER</th>\n",
       "    </tr>\n",
       "    <tr>\n",
       "      <th>isFraud</th>\n",
       "      <th></th>\n",
       "      <th></th>\n",
       "      <th></th>\n",
       "      <th></th>\n",
       "      <th></th>\n",
       "    </tr>\n",
       "  </thead>\n",
       "  <tbody>\n",
       "    <tr>\n",
       "      <th>0</th>\n",
       "      <td>13464.0</td>\n",
       "      <td>1025762.0</td>\n",
       "      <td>6158.0</td>\n",
       "      <td>774245.0</td>\n",
       "      <td>282779.0</td>\n",
       "    </tr>\n",
       "    <tr>\n",
       "      <th>1</th>\n",
       "      <td>NaN</td>\n",
       "      <td>37.0</td>\n",
       "      <td>NaN</td>\n",
       "      <td>NaN</td>\n",
       "      <td>4.0</td>\n",
       "    </tr>\n",
       "  </tbody>\n",
       "</table>\n",
       "</div>"
      ],
      "text/plain": [
       "type     CASH_IN   CASH_OUT   DEBIT   PAYMENT  TRANSFER\n",
       "isFraud                                                \n",
       "0        13464.0  1025762.0  6158.0  774245.0  282779.0\n",
       "1            NaN       37.0     NaN       NaN       4.0"
      ]
     },
     "execution_count": 56,
     "metadata": {},
     "output_type": "execute_result"
    }
   ],
   "source": [
    "dataset.loc[(dataset['oldbalanceOrg'] == 0) & (dataset['nameOrig'].str.startswith('C')), :].groupby([target, 'type']).size().unstack()"
   ]
  },
  {
   "cell_type": "code",
   "execution_count": 57,
   "id": "3f589b66",
   "metadata": {},
   "outputs": [
    {
     "data": {
      "text/html": [
       "<div>\n",
       "<style scoped>\n",
       "    .dataframe tbody tr th:only-of-type {\n",
       "        vertical-align: middle;\n",
       "    }\n",
       "\n",
       "    .dataframe tbody tr th {\n",
       "        vertical-align: top;\n",
       "    }\n",
       "\n",
       "    .dataframe thead th {\n",
       "        text-align: right;\n",
       "    }\n",
       "</style>\n",
       "<table border=\"1\" class=\"dataframe\">\n",
       "  <thead>\n",
       "    <tr style=\"text-align: right;\">\n",
       "      <th>type</th>\n",
       "      <th>CASH_OUT</th>\n",
       "      <th>DEBIT</th>\n",
       "      <th>PAYMENT</th>\n",
       "      <th>TRANSFER</th>\n",
       "    </tr>\n",
       "    <tr>\n",
       "      <th>isFraud</th>\n",
       "      <th></th>\n",
       "      <th></th>\n",
       "      <th></th>\n",
       "      <th></th>\n",
       "    </tr>\n",
       "  </thead>\n",
       "  <tbody>\n",
       "    <tr>\n",
       "      <th>0</th>\n",
       "      <td>1981096.0</td>\n",
       "      <td>11786.0</td>\n",
       "      <td>1101124.0</td>\n",
       "      <td>507507.0</td>\n",
       "    </tr>\n",
       "    <tr>\n",
       "      <th>1</th>\n",
       "      <td>4115.0</td>\n",
       "      <td>NaN</td>\n",
       "      <td>NaN</td>\n",
       "      <td>3938.0</td>\n",
       "    </tr>\n",
       "  </tbody>\n",
       "</table>\n",
       "</div>"
      ],
      "text/plain": [
       "type      CASH_OUT    DEBIT    PAYMENT  TRANSFER\n",
       "isFraud                                         \n",
       "0        1981096.0  11786.0  1101124.0  507507.0\n",
       "1           4115.0      NaN        NaN    3938.0"
      ]
     },
     "execution_count": 57,
     "metadata": {},
     "output_type": "execute_result"
    }
   ],
   "source": [
    "dataset.loc[(dataset['newbalanceOrig'] == 0) & (dataset['nameOrig'].str.startswith('C')), :].groupby([target, 'type']).size().unstack()"
   ]
  },
  {
   "cell_type": "code",
   "execution_count": 58,
   "id": "79727bdb",
   "metadata": {},
   "outputs": [
    {
     "data": {
      "text/html": [
       "<div>\n",
       "<style scoped>\n",
       "    .dataframe tbody tr th:only-of-type {\n",
       "        vertical-align: middle;\n",
       "    }\n",
       "\n",
       "    .dataframe tbody tr th {\n",
       "        vertical-align: top;\n",
       "    }\n",
       "\n",
       "    .dataframe thead th {\n",
       "        text-align: right;\n",
       "    }\n",
       "</style>\n",
       "<table border=\"1\" class=\"dataframe\">\n",
       "  <thead>\n",
       "    <tr style=\"text-align: right;\">\n",
       "      <th>type</th>\n",
       "      <th>CASH_IN</th>\n",
       "      <th>CASH_OUT</th>\n",
       "      <th>DEBIT</th>\n",
       "      <th>PAYMENT</th>\n",
       "      <th>TRANSFER</th>\n",
       "    </tr>\n",
       "    <tr>\n",
       "      <th>isFraud</th>\n",
       "      <th></th>\n",
       "      <th></th>\n",
       "      <th></th>\n",
       "      <th></th>\n",
       "      <th></th>\n",
       "    </tr>\n",
       "  </thead>\n",
       "  <tbody>\n",
       "    <tr>\n",
       "      <th>0</th>\n",
       "      <td>1243460.0</td>\n",
       "      <td>2233372.0</td>\n",
       "      <td>41432.0</td>\n",
       "      <td>2151463.0</td>\n",
       "      <td>528806.0</td>\n",
       "    </tr>\n",
       "    <tr>\n",
       "      <th>1</th>\n",
       "      <td>NaN</td>\n",
       "      <td>4116.0</td>\n",
       "      <td>NaN</td>\n",
       "      <td>NaN</td>\n",
       "      <td>4040.0</td>\n",
       "    </tr>\n",
       "  </tbody>\n",
       "</table>\n",
       "</div>"
      ],
      "text/plain": [
       "type       CASH_IN   CASH_OUT    DEBIT    PAYMENT  TRANSFER\n",
       "isFraud                                                    \n",
       "0        1243460.0  2233372.0  41432.0  2151463.0  528806.0\n",
       "1              NaN     4116.0      NaN        NaN    4040.0"
      ]
     },
     "execution_count": 58,
     "metadata": {},
     "output_type": "execute_result"
    }
   ],
   "source": [
    "dataset.groupby([target, 'type']).size().unstack()"
   ]
  },
  {
   "cell_type": "markdown",
   "id": "39ecbed7",
   "metadata": {},
   "source": [
    "As we can observe that we are seeing a weird trend that most of the fraudulent transactions happened with people having customer ID starting with 'C's. And no fraud transactions happened with transaction types other then CASH_OUT, TRANSFER. This might be due to the fact that we don't have data about others or it might actually be the case."
   ]
  },
  {
   "cell_type": "markdown",
   "id": "6c4287a4",
   "metadata": {},
   "source": [
    "Let's create a new column containing binary variable for 'nameOrig' and 'nameDest' starting with C or not."
   ]
  },
  {
   "cell_type": "code",
   "execution_count": 59,
   "id": "4e5c6371",
   "metadata": {},
   "outputs": [
    {
     "data": {
      "text/plain": [
       "True    6206689\n",
       "Name: nameOrig, dtype: int64"
      ]
     },
     "execution_count": 59,
     "metadata": {},
     "output_type": "execute_result"
    }
   ],
   "source": [
    "dataset['nameOrig'].str.startswith('C').value_counts()"
   ]
  },
  {
   "cell_type": "markdown",
   "id": "37fbf12b",
   "metadata": {},
   "source": [
    "As we can see all the customer IDs in this column starts with 'C' so we won't make a new column for this feature"
   ]
  },
  {
   "cell_type": "code",
   "execution_count": 61,
   "id": "b7a91b4a",
   "metadata": {},
   "outputs": [
    {
     "data": {
      "text/html": [
       "<div>\n",
       "<style scoped>\n",
       "    .dataframe tbody tr th:only-of-type {\n",
       "        vertical-align: middle;\n",
       "    }\n",
       "\n",
       "    .dataframe tbody tr th {\n",
       "        vertical-align: top;\n",
       "    }\n",
       "\n",
       "    .dataframe thead th {\n",
       "        text-align: right;\n",
       "    }\n",
       "</style>\n",
       "<table border=\"1\" class=\"dataframe\">\n",
       "  <thead>\n",
       "    <tr style=\"text-align: right;\">\n",
       "      <th></th>\n",
       "      <th>step</th>\n",
       "      <th>type</th>\n",
       "      <th>amount</th>\n",
       "      <th>nameOrig</th>\n",
       "      <th>oldbalanceOrg</th>\n",
       "      <th>newbalanceOrig</th>\n",
       "      <th>nameDest</th>\n",
       "      <th>oldbalanceDest</th>\n",
       "      <th>newbalanceDest</th>\n",
       "      <th>isFraud</th>\n",
       "      <th>isFlaggedFraud</th>\n",
       "    </tr>\n",
       "  </thead>\n",
       "  <tbody>\n",
       "    <tr>\n",
       "      <th>2</th>\n",
       "      <td>1</td>\n",
       "      <td>TRANSFER</td>\n",
       "      <td>181.00</td>\n",
       "      <td>C1305486145</td>\n",
       "      <td>181.00</td>\n",
       "      <td>0.0</td>\n",
       "      <td>C553264065</td>\n",
       "      <td>0.00</td>\n",
       "      <td>0.00</td>\n",
       "      <td>1</td>\n",
       "      <td>0</td>\n",
       "    </tr>\n",
       "    <tr>\n",
       "      <th>3</th>\n",
       "      <td>1</td>\n",
       "      <td>CASH_OUT</td>\n",
       "      <td>181.00</td>\n",
       "      <td>C840083671</td>\n",
       "      <td>181.00</td>\n",
       "      <td>0.0</td>\n",
       "      <td>C38997010</td>\n",
       "      <td>21182.00</td>\n",
       "      <td>0.00</td>\n",
       "      <td>1</td>\n",
       "      <td>0</td>\n",
       "    </tr>\n",
       "    <tr>\n",
       "      <th>251</th>\n",
       "      <td>1</td>\n",
       "      <td>TRANSFER</td>\n",
       "      <td>2806.00</td>\n",
       "      <td>C1420196421</td>\n",
       "      <td>2806.00</td>\n",
       "      <td>0.0</td>\n",
       "      <td>C972765878</td>\n",
       "      <td>0.00</td>\n",
       "      <td>0.00</td>\n",
       "      <td>1</td>\n",
       "      <td>0</td>\n",
       "    </tr>\n",
       "    <tr>\n",
       "      <th>252</th>\n",
       "      <td>1</td>\n",
       "      <td>CASH_OUT</td>\n",
       "      <td>2806.00</td>\n",
       "      <td>C2101527076</td>\n",
       "      <td>2806.00</td>\n",
       "      <td>0.0</td>\n",
       "      <td>C1007251739</td>\n",
       "      <td>26202.00</td>\n",
       "      <td>0.00</td>\n",
       "      <td>1</td>\n",
       "      <td>0</td>\n",
       "    </tr>\n",
       "    <tr>\n",
       "      <th>680</th>\n",
       "      <td>1</td>\n",
       "      <td>TRANSFER</td>\n",
       "      <td>20128.00</td>\n",
       "      <td>C137533655</td>\n",
       "      <td>20128.00</td>\n",
       "      <td>0.0</td>\n",
       "      <td>C1848415041</td>\n",
       "      <td>0.00</td>\n",
       "      <td>0.00</td>\n",
       "      <td>1</td>\n",
       "      <td>0</td>\n",
       "    </tr>\n",
       "    <tr>\n",
       "      <th>...</th>\n",
       "      <td>...</td>\n",
       "      <td>...</td>\n",
       "      <td>...</td>\n",
       "      <td>...</td>\n",
       "      <td>...</td>\n",
       "      <td>...</td>\n",
       "      <td>...</td>\n",
       "      <td>...</td>\n",
       "      <td>...</td>\n",
       "      <td>...</td>\n",
       "      <td>...</td>\n",
       "    </tr>\n",
       "    <tr>\n",
       "      <th>6362615</th>\n",
       "      <td>743</td>\n",
       "      <td>CASH_OUT</td>\n",
       "      <td>339682.13</td>\n",
       "      <td>C786484425</td>\n",
       "      <td>339682.13</td>\n",
       "      <td>0.0</td>\n",
       "      <td>C776919290</td>\n",
       "      <td>0.00</td>\n",
       "      <td>339682.13</td>\n",
       "      <td>1</td>\n",
       "      <td>0</td>\n",
       "    </tr>\n",
       "    <tr>\n",
       "      <th>6362616</th>\n",
       "      <td>743</td>\n",
       "      <td>TRANSFER</td>\n",
       "      <td>6311409.28</td>\n",
       "      <td>C1529008245</td>\n",
       "      <td>6311409.28</td>\n",
       "      <td>0.0</td>\n",
       "      <td>C1881841831</td>\n",
       "      <td>0.00</td>\n",
       "      <td>0.00</td>\n",
       "      <td>1</td>\n",
       "      <td>0</td>\n",
       "    </tr>\n",
       "    <tr>\n",
       "      <th>6362617</th>\n",
       "      <td>743</td>\n",
       "      <td>CASH_OUT</td>\n",
       "      <td>6311409.28</td>\n",
       "      <td>C1162922333</td>\n",
       "      <td>6311409.28</td>\n",
       "      <td>0.0</td>\n",
       "      <td>C1365125890</td>\n",
       "      <td>68488.84</td>\n",
       "      <td>6379898.11</td>\n",
       "      <td>1</td>\n",
       "      <td>0</td>\n",
       "    </tr>\n",
       "    <tr>\n",
       "      <th>6362618</th>\n",
       "      <td>743</td>\n",
       "      <td>TRANSFER</td>\n",
       "      <td>850002.52</td>\n",
       "      <td>C1685995037</td>\n",
       "      <td>850002.52</td>\n",
       "      <td>0.0</td>\n",
       "      <td>C2080388513</td>\n",
       "      <td>0.00</td>\n",
       "      <td>0.00</td>\n",
       "      <td>1</td>\n",
       "      <td>0</td>\n",
       "    </tr>\n",
       "    <tr>\n",
       "      <th>6362619</th>\n",
       "      <td>743</td>\n",
       "      <td>CASH_OUT</td>\n",
       "      <td>850002.52</td>\n",
       "      <td>C1280323807</td>\n",
       "      <td>850002.52</td>\n",
       "      <td>0.0</td>\n",
       "      <td>C873221189</td>\n",
       "      <td>6510099.11</td>\n",
       "      <td>7360101.63</td>\n",
       "      <td>1</td>\n",
       "      <td>0</td>\n",
       "    </tr>\n",
       "  </tbody>\n",
       "</table>\n",
       "<p>8156 rows × 11 columns</p>\n",
       "</div>"
      ],
      "text/plain": [
       "         step      type      amount     nameOrig  oldbalanceOrg  \\\n",
       "2           1  TRANSFER      181.00  C1305486145         181.00   \n",
       "3           1  CASH_OUT      181.00   C840083671         181.00   \n",
       "251         1  TRANSFER     2806.00  C1420196421        2806.00   \n",
       "252         1  CASH_OUT     2806.00  C2101527076        2806.00   \n",
       "680         1  TRANSFER    20128.00   C137533655       20128.00   \n",
       "...       ...       ...         ...          ...            ...   \n",
       "6362615   743  CASH_OUT   339682.13   C786484425      339682.13   \n",
       "6362616   743  TRANSFER  6311409.28  C1529008245     6311409.28   \n",
       "6362617   743  CASH_OUT  6311409.28  C1162922333     6311409.28   \n",
       "6362618   743  TRANSFER   850002.52  C1685995037      850002.52   \n",
       "6362619   743  CASH_OUT   850002.52  C1280323807      850002.52   \n",
       "\n",
       "         newbalanceOrig     nameDest  oldbalanceDest  newbalanceDest  isFraud  \\\n",
       "2                   0.0   C553264065            0.00            0.00        1   \n",
       "3                   0.0    C38997010        21182.00            0.00        1   \n",
       "251                 0.0   C972765878            0.00            0.00        1   \n",
       "252                 0.0  C1007251739        26202.00            0.00        1   \n",
       "680                 0.0  C1848415041            0.00            0.00        1   \n",
       "...                 ...          ...             ...             ...      ...   \n",
       "6362615             0.0   C776919290            0.00       339682.13        1   \n",
       "6362616             0.0  C1881841831            0.00            0.00        1   \n",
       "6362617             0.0  C1365125890        68488.84      6379898.11        1   \n",
       "6362618             0.0  C2080388513            0.00            0.00        1   \n",
       "6362619             0.0   C873221189      6510099.11      7360101.63        1   \n",
       "\n",
       "         isFlaggedFraud  \n",
       "2                     0  \n",
       "3                     0  \n",
       "251                   0  \n",
       "252                   0  \n",
       "680                   0  \n",
       "...                 ...  \n",
       "6362615               0  \n",
       "6362616               0  \n",
       "6362617               0  \n",
       "6362618               0  \n",
       "6362619               0  \n",
       "\n",
       "[8156 rows x 11 columns]"
      ]
     },
     "execution_count": 61,
     "metadata": {},
     "output_type": "execute_result"
    }
   ],
   "source": [
    "dataset[dataset['nameDest'].str.startswith('C') & dataset[target] == 1]"
   ]
  },
  {
   "cell_type": "code",
   "execution_count": 62,
   "id": "74819797",
   "metadata": {},
   "outputs": [
    {
     "data": {
      "text/plain": [
       "0    6198533\n",
       "1       8156\n",
       "Name: isFraud, dtype: int64"
      ]
     },
     "execution_count": 62,
     "metadata": {},
     "output_type": "execute_result"
    }
   ],
   "source": [
    "dataset[target].value_counts()"
   ]
  },
  {
   "cell_type": "markdown",
   "id": "c1e23fc6",
   "metadata": {},
   "source": [
    "As we can see all the fraud transactions have their 'nameDest' customer ID starting with 'C', so we will make a new column out it"
   ]
  },
  {
   "cell_type": "code",
   "execution_count": 63,
   "id": "5c1f22f2",
   "metadata": {},
   "outputs": [],
   "source": [
    "dataset['nameDest_startswith_C'] = dataset['nameDest'].str.startswith('C')"
   ]
  },
  {
   "cell_type": "code",
   "execution_count": 64,
   "id": "385eb635",
   "metadata": {},
   "outputs": [
    {
     "data": {
      "text/plain": [
       "True     4055226\n",
       "False    2151463\n",
       "Name: nameDest_startswith_C, dtype: int64"
      ]
     },
     "execution_count": 64,
     "metadata": {},
     "output_type": "execute_result"
    }
   ],
   "source": [
    "dataset['nameDest_startswith_C'].value_counts()"
   ]
  },
  {
   "cell_type": "code",
   "execution_count": 65,
   "id": "df7f20d6",
   "metadata": {},
   "outputs": [
    {
     "data": {
      "text/html": [
       "<div>\n",
       "<style scoped>\n",
       "    .dataframe tbody tr th:only-of-type {\n",
       "        vertical-align: middle;\n",
       "    }\n",
       "\n",
       "    .dataframe tbody tr th {\n",
       "        vertical-align: top;\n",
       "    }\n",
       "\n",
       "    .dataframe thead th {\n",
       "        text-align: right;\n",
       "    }\n",
       "</style>\n",
       "<table border=\"1\" class=\"dataframe\">\n",
       "  <thead>\n",
       "    <tr style=\"text-align: right;\">\n",
       "      <th>nameDest_startswith_C</th>\n",
       "      <th>False</th>\n",
       "      <th>True</th>\n",
       "    </tr>\n",
       "    <tr>\n",
       "      <th>isFraud</th>\n",
       "      <th></th>\n",
       "      <th></th>\n",
       "    </tr>\n",
       "  </thead>\n",
       "  <tbody>\n",
       "    <tr>\n",
       "      <th>0</th>\n",
       "      <td>2151463.0</td>\n",
       "      <td>4047070.0</td>\n",
       "    </tr>\n",
       "    <tr>\n",
       "      <th>1</th>\n",
       "      <td>NaN</td>\n",
       "      <td>8156.0</td>\n",
       "    </tr>\n",
       "  </tbody>\n",
       "</table>\n",
       "</div>"
      ],
      "text/plain": [
       "nameDest_startswith_C      False      True \n",
       "isFraud                                    \n",
       "0                      2151463.0  4047070.0\n",
       "1                            NaN     8156.0"
      ]
     },
     "execution_count": 65,
     "metadata": {},
     "output_type": "execute_result"
    }
   ],
   "source": [
    "dataset.groupby([target, 'nameDest_startswith_C']).size().unstack()"
   ]
  },
  {
   "cell_type": "code",
   "execution_count": 66,
   "id": "1f562554",
   "metadata": {},
   "outputs": [
    {
     "data": {
      "text/html": [
       "<div>\n",
       "<style scoped>\n",
       "    .dataframe tbody tr th:only-of-type {\n",
       "        vertical-align: middle;\n",
       "    }\n",
       "\n",
       "    .dataframe tbody tr th {\n",
       "        vertical-align: top;\n",
       "    }\n",
       "\n",
       "    .dataframe thead th {\n",
       "        text-align: right;\n",
       "    }\n",
       "</style>\n",
       "<table border=\"1\" class=\"dataframe\">\n",
       "  <thead>\n",
       "    <tr style=\"text-align: right;\">\n",
       "      <th></th>\n",
       "      <th>step</th>\n",
       "      <th>type</th>\n",
       "      <th>amount</th>\n",
       "      <th>nameOrig</th>\n",
       "      <th>oldbalanceOrg</th>\n",
       "      <th>newbalanceOrig</th>\n",
       "      <th>nameDest</th>\n",
       "      <th>oldbalanceDest</th>\n",
       "      <th>newbalanceDest</th>\n",
       "      <th>isFraud</th>\n",
       "      <th>isFlaggedFraud</th>\n",
       "      <th>nameDest_startswith_C</th>\n",
       "    </tr>\n",
       "  </thead>\n",
       "  <tbody>\n",
       "    <tr>\n",
       "      <th>0</th>\n",
       "      <td>1</td>\n",
       "      <td>PAYMENT</td>\n",
       "      <td>9839.64</td>\n",
       "      <td>C1231006815</td>\n",
       "      <td>170136.0</td>\n",
       "      <td>160296.36</td>\n",
       "      <td>M1979787155</td>\n",
       "      <td>540353.5</td>\n",
       "      <td>684667.645</td>\n",
       "      <td>0</td>\n",
       "      <td>0</td>\n",
       "      <td>False</td>\n",
       "    </tr>\n",
       "    <tr>\n",
       "      <th>1</th>\n",
       "      <td>1</td>\n",
       "      <td>PAYMENT</td>\n",
       "      <td>1864.28</td>\n",
       "      <td>C1666544295</td>\n",
       "      <td>21249.0</td>\n",
       "      <td>19384.72</td>\n",
       "      <td>M2044282225</td>\n",
       "      <td>540353.5</td>\n",
       "      <td>684667.645</td>\n",
       "      <td>0</td>\n",
       "      <td>0</td>\n",
       "      <td>False</td>\n",
       "    </tr>\n",
       "    <tr>\n",
       "      <th>2</th>\n",
       "      <td>1</td>\n",
       "      <td>TRANSFER</td>\n",
       "      <td>181.00</td>\n",
       "      <td>C1305486145</td>\n",
       "      <td>181.0</td>\n",
       "      <td>0.00</td>\n",
       "      <td>C553264065</td>\n",
       "      <td>0.0</td>\n",
       "      <td>0.000</td>\n",
       "      <td>1</td>\n",
       "      <td>0</td>\n",
       "      <td>True</td>\n",
       "    </tr>\n",
       "    <tr>\n",
       "      <th>3</th>\n",
       "      <td>1</td>\n",
       "      <td>CASH_OUT</td>\n",
       "      <td>181.00</td>\n",
       "      <td>C840083671</td>\n",
       "      <td>181.0</td>\n",
       "      <td>0.00</td>\n",
       "      <td>C38997010</td>\n",
       "      <td>21182.0</td>\n",
       "      <td>0.000</td>\n",
       "      <td>1</td>\n",
       "      <td>0</td>\n",
       "      <td>True</td>\n",
       "    </tr>\n",
       "    <tr>\n",
       "      <th>4</th>\n",
       "      <td>1</td>\n",
       "      <td>PAYMENT</td>\n",
       "      <td>11668.14</td>\n",
       "      <td>C2048537720</td>\n",
       "      <td>41554.0</td>\n",
       "      <td>29885.86</td>\n",
       "      <td>M1230701703</td>\n",
       "      <td>540353.5</td>\n",
       "      <td>684667.645</td>\n",
       "      <td>0</td>\n",
       "      <td>0</td>\n",
       "      <td>False</td>\n",
       "    </tr>\n",
       "  </tbody>\n",
       "</table>\n",
       "</div>"
      ],
      "text/plain": [
       "   step      type    amount     nameOrig  oldbalanceOrg  newbalanceOrig  \\\n",
       "0     1   PAYMENT   9839.64  C1231006815       170136.0       160296.36   \n",
       "1     1   PAYMENT   1864.28  C1666544295        21249.0        19384.72   \n",
       "2     1  TRANSFER    181.00  C1305486145          181.0            0.00   \n",
       "3     1  CASH_OUT    181.00   C840083671          181.0            0.00   \n",
       "4     1   PAYMENT  11668.14  C2048537720        41554.0        29885.86   \n",
       "\n",
       "      nameDest  oldbalanceDest  newbalanceDest  isFraud  isFlaggedFraud  \\\n",
       "0  M1979787155        540353.5      684667.645        0               0   \n",
       "1  M2044282225        540353.5      684667.645        0               0   \n",
       "2   C553264065             0.0           0.000        1               0   \n",
       "3    C38997010         21182.0           0.000        1               0   \n",
       "4  M1230701703        540353.5      684667.645        0               0   \n",
       "\n",
       "   nameDest_startswith_C  \n",
       "0                  False  \n",
       "1                  False  \n",
       "2                   True  \n",
       "3                   True  \n",
       "4                  False  "
      ]
     },
     "execution_count": 66,
     "metadata": {},
     "output_type": "execute_result"
    }
   ],
   "source": [
    "dataset.head()"
   ]
  },
  {
   "cell_type": "code",
   "execution_count": 67,
   "id": "ec447404",
   "metadata": {},
   "outputs": [
    {
     "data": {
      "text/plain": [
       "(6206689, 12)"
      ]
     },
     "execution_count": 67,
     "metadata": {},
     "output_type": "execute_result"
    }
   ],
   "source": [
    "dataset.shape"
   ]
  },
  {
   "cell_type": "markdown",
   "id": "f89f5c0a",
   "metadata": {},
   "source": [
    "Encoding categorical variables"
   ]
  },
  {
   "cell_type": "markdown",
   "id": "d74c97c1",
   "metadata": {},
   "source": [
    "Encoding 'nameDest_startswith_C' first, then we'll move on to 'type'"
   ]
  },
  {
   "cell_type": "code",
   "execution_count": 68,
   "id": "16cfda3e",
   "metadata": {},
   "outputs": [
    {
     "data": {
      "text/plain": [
       "True     4055226\n",
       "False    2151463\n",
       "Name: nameDest_startswith_C, dtype: int64"
      ]
     },
     "execution_count": 68,
     "metadata": {},
     "output_type": "execute_result"
    }
   ],
   "source": [
    "dataset['nameDest_startswith_C'].value_counts()"
   ]
  },
  {
   "cell_type": "code",
   "execution_count": 69,
   "id": "c07267b4",
   "metadata": {},
   "outputs": [],
   "source": [
    "from sklearn.preprocessing import OrdinalEncoder\n",
    "dataset[['nameDest_startswith_C']] = OrdinalEncoder(categories=[[False, True]]).fit_transform(dataset[['nameDest_startswith_C']])"
   ]
  },
  {
   "cell_type": "code",
   "execution_count": 70,
   "id": "8e382709",
   "metadata": {},
   "outputs": [],
   "source": [
    "dataset = pd.get_dummies(dataset, columns=['type'], drop_first=True)"
   ]
  },
  {
   "cell_type": "code",
   "execution_count": 71,
   "id": "9620226d",
   "metadata": {},
   "outputs": [
    {
     "data": {
      "text/html": [
       "<div>\n",
       "<style scoped>\n",
       "    .dataframe tbody tr th:only-of-type {\n",
       "        vertical-align: middle;\n",
       "    }\n",
       "\n",
       "    .dataframe tbody tr th {\n",
       "        vertical-align: top;\n",
       "    }\n",
       "\n",
       "    .dataframe thead th {\n",
       "        text-align: right;\n",
       "    }\n",
       "</style>\n",
       "<table border=\"1\" class=\"dataframe\">\n",
       "  <thead>\n",
       "    <tr style=\"text-align: right;\">\n",
       "      <th></th>\n",
       "      <th>step</th>\n",
       "      <th>amount</th>\n",
       "      <th>nameOrig</th>\n",
       "      <th>oldbalanceOrg</th>\n",
       "      <th>newbalanceOrig</th>\n",
       "      <th>nameDest</th>\n",
       "      <th>oldbalanceDest</th>\n",
       "      <th>newbalanceDest</th>\n",
       "      <th>isFraud</th>\n",
       "      <th>isFlaggedFraud</th>\n",
       "      <th>nameDest_startswith_C</th>\n",
       "      <th>type_CASH_OUT</th>\n",
       "      <th>type_DEBIT</th>\n",
       "      <th>type_PAYMENT</th>\n",
       "      <th>type_TRANSFER</th>\n",
       "    </tr>\n",
       "  </thead>\n",
       "  <tbody>\n",
       "    <tr>\n",
       "      <th>0</th>\n",
       "      <td>1</td>\n",
       "      <td>9839.64</td>\n",
       "      <td>C1231006815</td>\n",
       "      <td>170136.0</td>\n",
       "      <td>160296.36</td>\n",
       "      <td>M1979787155</td>\n",
       "      <td>540353.5</td>\n",
       "      <td>684667.645</td>\n",
       "      <td>0</td>\n",
       "      <td>0</td>\n",
       "      <td>0.0</td>\n",
       "      <td>0</td>\n",
       "      <td>0</td>\n",
       "      <td>1</td>\n",
       "      <td>0</td>\n",
       "    </tr>\n",
       "    <tr>\n",
       "      <th>1</th>\n",
       "      <td>1</td>\n",
       "      <td>1864.28</td>\n",
       "      <td>C1666544295</td>\n",
       "      <td>21249.0</td>\n",
       "      <td>19384.72</td>\n",
       "      <td>M2044282225</td>\n",
       "      <td>540353.5</td>\n",
       "      <td>684667.645</td>\n",
       "      <td>0</td>\n",
       "      <td>0</td>\n",
       "      <td>0.0</td>\n",
       "      <td>0</td>\n",
       "      <td>0</td>\n",
       "      <td>1</td>\n",
       "      <td>0</td>\n",
       "    </tr>\n",
       "    <tr>\n",
       "      <th>2</th>\n",
       "      <td>1</td>\n",
       "      <td>181.00</td>\n",
       "      <td>C1305486145</td>\n",
       "      <td>181.0</td>\n",
       "      <td>0.00</td>\n",
       "      <td>C553264065</td>\n",
       "      <td>0.0</td>\n",
       "      <td>0.000</td>\n",
       "      <td>1</td>\n",
       "      <td>0</td>\n",
       "      <td>1.0</td>\n",
       "      <td>0</td>\n",
       "      <td>0</td>\n",
       "      <td>0</td>\n",
       "      <td>1</td>\n",
       "    </tr>\n",
       "    <tr>\n",
       "      <th>3</th>\n",
       "      <td>1</td>\n",
       "      <td>181.00</td>\n",
       "      <td>C840083671</td>\n",
       "      <td>181.0</td>\n",
       "      <td>0.00</td>\n",
       "      <td>C38997010</td>\n",
       "      <td>21182.0</td>\n",
       "      <td>0.000</td>\n",
       "      <td>1</td>\n",
       "      <td>0</td>\n",
       "      <td>1.0</td>\n",
       "      <td>1</td>\n",
       "      <td>0</td>\n",
       "      <td>0</td>\n",
       "      <td>0</td>\n",
       "    </tr>\n",
       "    <tr>\n",
       "      <th>4</th>\n",
       "      <td>1</td>\n",
       "      <td>11668.14</td>\n",
       "      <td>C2048537720</td>\n",
       "      <td>41554.0</td>\n",
       "      <td>29885.86</td>\n",
       "      <td>M1230701703</td>\n",
       "      <td>540353.5</td>\n",
       "      <td>684667.645</td>\n",
       "      <td>0</td>\n",
       "      <td>0</td>\n",
       "      <td>0.0</td>\n",
       "      <td>0</td>\n",
       "      <td>0</td>\n",
       "      <td>1</td>\n",
       "      <td>0</td>\n",
       "    </tr>\n",
       "  </tbody>\n",
       "</table>\n",
       "</div>"
      ],
      "text/plain": [
       "   step    amount     nameOrig  oldbalanceOrg  newbalanceOrig     nameDest  \\\n",
       "0     1   9839.64  C1231006815       170136.0       160296.36  M1979787155   \n",
       "1     1   1864.28  C1666544295        21249.0        19384.72  M2044282225   \n",
       "2     1    181.00  C1305486145          181.0            0.00   C553264065   \n",
       "3     1    181.00   C840083671          181.0            0.00    C38997010   \n",
       "4     1  11668.14  C2048537720        41554.0        29885.86  M1230701703   \n",
       "\n",
       "   oldbalanceDest  newbalanceDest  isFraud  isFlaggedFraud  \\\n",
       "0        540353.5      684667.645        0               0   \n",
       "1        540353.5      684667.645        0               0   \n",
       "2             0.0           0.000        1               0   \n",
       "3         21182.0           0.000        1               0   \n",
       "4        540353.5      684667.645        0               0   \n",
       "\n",
       "   nameDest_startswith_C  type_CASH_OUT  type_DEBIT  type_PAYMENT  \\\n",
       "0                    0.0              0           0             1   \n",
       "1                    0.0              0           0             1   \n",
       "2                    1.0              0           0             0   \n",
       "3                    1.0              1           0             0   \n",
       "4                    0.0              0           0             1   \n",
       "\n",
       "   type_TRANSFER  \n",
       "0              0  \n",
       "1              0  \n",
       "2              1  \n",
       "3              0  \n",
       "4              0  "
      ]
     },
     "execution_count": 71,
     "metadata": {},
     "output_type": "execute_result"
    }
   ],
   "source": [
    "dataset.head()"
   ]
  },
  {
   "cell_type": "code",
   "execution_count": 72,
   "id": "3ec034e4",
   "metadata": {},
   "outputs": [
    {
     "data": {
      "text/plain": [
       "(6206689, 15)"
      ]
     },
     "execution_count": 72,
     "metadata": {},
     "output_type": "execute_result"
    }
   ],
   "source": [
    "dataset.shape"
   ]
  },
  {
   "cell_type": "markdown",
   "id": "89c805ad",
   "metadata": {},
   "source": [
    "CASH_IN, DEBIT, PAYMENT do not have any fraudulent transactions associated with them, so it would be good to drop their columns."
   ]
  },
  {
   "cell_type": "code",
   "execution_count": 73,
   "id": "5954dddb",
   "metadata": {},
   "outputs": [],
   "source": [
    "dataset = dataset.drop(['type_DEBIT', 'type_PAYMENT'], axis=1)"
   ]
  },
  {
   "cell_type": "code",
   "execution_count": 74,
   "id": "c19aa9be",
   "metadata": {},
   "outputs": [
    {
     "data": {
      "text/plain": [
       "(6206689, 13)"
      ]
     },
     "execution_count": 74,
     "metadata": {},
     "output_type": "execute_result"
    }
   ],
   "source": [
    "dataset.shape"
   ]
  },
  {
   "cell_type": "markdown",
   "id": "a004b63f",
   "metadata": {},
   "source": [
    "Splitting the dataset into training set and test set"
   ]
  },
  {
   "cell_type": "code",
   "execution_count": 75,
   "id": "d5d32d87",
   "metadata": {},
   "outputs": [
    {
     "name": "stdout",
     "output_type": "stream",
     "text": [
      "Original dataset size --> (6206689, 13)\n",
      "Training set size --> (5958421, 12)\n",
      "Testing set size --> (248268, 12)\n"
     ]
    }
   ],
   "source": [
    "from sklearn.model_selection import train_test_split\n",
    "\n",
    "X = dataset.drop([target], axis=1)\n",
    "y = dataset[target]\n",
    "\n",
    "X_train, X_test, y_train, y_test = train_test_split(X, y, test_size=0.04, random_state=403)\n",
    "X_train.reset_index(drop=True, inplace=True)\n",
    "\n",
    "print('Original dataset size --> ({}, {})'.format(dataset.shape[0], dataset.shape[1]))\n",
    "print('Training set size --> ({}, {})'.format(X_train.shape[0], X_train.shape[1]))\n",
    "print('Testing set size --> ({}, {})'.format(X_test.shape[0], X_test.shape[1]))"
   ]
  },
  {
   "cell_type": "code",
   "execution_count": 76,
   "id": "98ca2d32",
   "metadata": {},
   "outputs": [
    {
     "data": {
      "text/html": [
       "<div>\n",
       "<style scoped>\n",
       "    .dataframe tbody tr th:only-of-type {\n",
       "        vertical-align: middle;\n",
       "    }\n",
       "\n",
       "    .dataframe tbody tr th {\n",
       "        vertical-align: top;\n",
       "    }\n",
       "\n",
       "    .dataframe thead th {\n",
       "        text-align: right;\n",
       "    }\n",
       "</style>\n",
       "<table border=\"1\" class=\"dataframe\">\n",
       "  <thead>\n",
       "    <tr style=\"text-align: right;\">\n",
       "      <th></th>\n",
       "      <th>step</th>\n",
       "      <th>amount</th>\n",
       "      <th>nameOrig</th>\n",
       "      <th>oldbalanceOrg</th>\n",
       "      <th>newbalanceOrig</th>\n",
       "      <th>nameDest</th>\n",
       "      <th>oldbalanceDest</th>\n",
       "      <th>newbalanceDest</th>\n",
       "      <th>isFlaggedFraud</th>\n",
       "      <th>nameDest_startswith_C</th>\n",
       "      <th>type_CASH_OUT</th>\n",
       "      <th>type_TRANSFER</th>\n",
       "    </tr>\n",
       "  </thead>\n",
       "  <tbody>\n",
       "    <tr>\n",
       "      <th>0</th>\n",
       "      <td>42</td>\n",
       "      <td>7239.66</td>\n",
       "      <td>C1653777573</td>\n",
       "      <td>10687.00</td>\n",
       "      <td>3447.34</td>\n",
       "      <td>C78102107</td>\n",
       "      <td>40021.09</td>\n",
       "      <td>47260.760</td>\n",
       "      <td>0</td>\n",
       "      <td>1.0</td>\n",
       "      <td>1</td>\n",
       "      <td>0</td>\n",
       "    </tr>\n",
       "    <tr>\n",
       "      <th>1</th>\n",
       "      <td>303</td>\n",
       "      <td>16128.56</td>\n",
       "      <td>C199016460</td>\n",
       "      <td>20319.00</td>\n",
       "      <td>4190.44</td>\n",
       "      <td>M1186108292</td>\n",
       "      <td>540353.50</td>\n",
       "      <td>684667.645</td>\n",
       "      <td>0</td>\n",
       "      <td>0.0</td>\n",
       "      <td>0</td>\n",
       "      <td>0</td>\n",
       "    </tr>\n",
       "    <tr>\n",
       "      <th>2</th>\n",
       "      <td>249</td>\n",
       "      <td>102995.36</td>\n",
       "      <td>C1753251596</td>\n",
       "      <td>0.00</td>\n",
       "      <td>0.00</td>\n",
       "      <td>C605769476</td>\n",
       "      <td>4664358.29</td>\n",
       "      <td>4767353.650</td>\n",
       "      <td>0</td>\n",
       "      <td>1.0</td>\n",
       "      <td>1</td>\n",
       "      <td>0</td>\n",
       "    </tr>\n",
       "    <tr>\n",
       "      <th>3</th>\n",
       "      <td>119</td>\n",
       "      <td>1411011.86</td>\n",
       "      <td>C443987284</td>\n",
       "      <td>18994.98</td>\n",
       "      <td>0.00</td>\n",
       "      <td>C1185117928</td>\n",
       "      <td>5850721.86</td>\n",
       "      <td>7261733.720</td>\n",
       "      <td>0</td>\n",
       "      <td>1.0</td>\n",
       "      <td>0</td>\n",
       "      <td>1</td>\n",
       "    </tr>\n",
       "    <tr>\n",
       "      <th>4</th>\n",
       "      <td>335</td>\n",
       "      <td>6530.42</td>\n",
       "      <td>C768695096</td>\n",
       "      <td>0.00</td>\n",
       "      <td>0.00</td>\n",
       "      <td>M1286361780</td>\n",
       "      <td>540353.50</td>\n",
       "      <td>684667.645</td>\n",
       "      <td>0</td>\n",
       "      <td>0.0</td>\n",
       "      <td>0</td>\n",
       "      <td>0</td>\n",
       "    </tr>\n",
       "  </tbody>\n",
       "</table>\n",
       "</div>"
      ],
      "text/plain": [
       "   step      amount     nameOrig  oldbalanceOrg  newbalanceOrig     nameDest  \\\n",
       "0    42     7239.66  C1653777573       10687.00         3447.34    C78102107   \n",
       "1   303    16128.56   C199016460       20319.00         4190.44  M1186108292   \n",
       "2   249   102995.36  C1753251596           0.00            0.00   C605769476   \n",
       "3   119  1411011.86   C443987284       18994.98            0.00  C1185117928   \n",
       "4   335     6530.42   C768695096           0.00            0.00  M1286361780   \n",
       "\n",
       "   oldbalanceDest  newbalanceDest  isFlaggedFraud  nameDest_startswith_C  \\\n",
       "0        40021.09       47260.760               0                    1.0   \n",
       "1       540353.50      684667.645               0                    0.0   \n",
       "2      4664358.29     4767353.650               0                    1.0   \n",
       "3      5850721.86     7261733.720               0                    1.0   \n",
       "4       540353.50      684667.645               0                    0.0   \n",
       "\n",
       "   type_CASH_OUT  type_TRANSFER  \n",
       "0              1              0  \n",
       "1              0              0  \n",
       "2              1              0  \n",
       "3              0              1  \n",
       "4              0              0  "
      ]
     },
     "execution_count": 76,
     "metadata": {},
     "output_type": "execute_result"
    }
   ],
   "source": [
    "X_train.head()"
   ]
  },
  {
   "cell_type": "markdown",
   "id": "8a418b9e",
   "metadata": {},
   "source": [
    "Standardizing the values"
   ]
  },
  {
   "cell_type": "code",
   "execution_count": 77,
   "id": "757525e2",
   "metadata": {},
   "outputs": [
    {
     "name": "stdout",
     "output_type": "stream",
     "text": [
      "---- Standardizing the training set -----\n"
     ]
    },
    {
     "name": "stderr",
     "output_type": "stream",
     "text": [
      "c:\\users\\mansi\\anaconda3\\envs\\project\\lib\\site-packages\\ipykernel_launcher.py:11: SettingWithCopyWarning: \n",
      "A value is trying to be set on a copy of a slice from a DataFrame.\n",
      "Try using .loc[row_indexer,col_indexer] = value instead\n",
      "\n",
      "See the caveats in the documentation: https://pandas.pydata.org/pandas-docs/stable/user_guide/indexing.html#returning-a-view-versus-a-copy\n",
      "  # This is added back by InteractiveShellApp.init_path()\n",
      "c:\\users\\mansi\\anaconda3\\envs\\project\\lib\\site-packages\\pandas\\core\\indexing.py:1734: SettingWithCopyWarning: \n",
      "A value is trying to be set on a copy of a slice from a DataFrame.\n",
      "Try using .loc[row_indexer,col_indexer] = value instead\n",
      "\n",
      "See the caveats in the documentation: https://pandas.pydata.org/pandas-docs/stable/user_guide/indexing.html#returning-a-view-versus-a-copy\n",
      "  isetter(loc, value[:, i].tolist())\n"
     ]
    },
    {
     "data": {
      "text/html": [
       "<div>\n",
       "<style scoped>\n",
       "    .dataframe tbody tr th:only-of-type {\n",
       "        vertical-align: middle;\n",
       "    }\n",
       "\n",
       "    .dataframe tbody tr th {\n",
       "        vertical-align: top;\n",
       "    }\n",
       "\n",
       "    .dataframe thead th {\n",
       "        text-align: right;\n",
       "    }\n",
       "</style>\n",
       "<table border=\"1\" class=\"dataframe\">\n",
       "  <thead>\n",
       "    <tr style=\"text-align: right;\">\n",
       "      <th></th>\n",
       "      <th>step</th>\n",
       "      <th>amount</th>\n",
       "      <th>oldbalanceOrg</th>\n",
       "      <th>newbalanceOrig</th>\n",
       "      <th>oldbalanceDest</th>\n",
       "      <th>newbalanceDest</th>\n",
       "      <th>isFlaggedFraud</th>\n",
       "      <th>nameDest_startswith_C</th>\n",
       "      <th>type_CASH_OUT</th>\n",
       "      <th>type_TRANSFER</th>\n",
       "    </tr>\n",
       "  </thead>\n",
       "  <tbody>\n",
       "    <tr>\n",
       "      <th>count</th>\n",
       "      <td>5.958421e+06</td>\n",
       "      <td>5.958421e+06</td>\n",
       "      <td>5.958421e+06</td>\n",
       "      <td>5.958421e+06</td>\n",
       "      <td>5.958421e+06</td>\n",
       "      <td>5.958421e+06</td>\n",
       "      <td>5.958421e+06</td>\n",
       "      <td>5.958421e+06</td>\n",
       "      <td>5.958421e+06</td>\n",
       "      <td>5.958421e+06</td>\n",
       "    </tr>\n",
       "    <tr>\n",
       "      <th>mean</th>\n",
       "      <td>-3.999412e-17</td>\n",
       "      <td>-1.937768e-16</td>\n",
       "      <td>1.787417e-16</td>\n",
       "      <td>-3.412475e-16</td>\n",
       "      <td>-4.304216e-17</td>\n",
       "      <td>2.226806e-16</td>\n",
       "      <td>1.678297e-06</td>\n",
       "      <td>6.533701e-01</td>\n",
       "      <td>3.604665e-01</td>\n",
       "      <td>8.587510e-02</td>\n",
       "    </tr>\n",
       "    <tr>\n",
       "      <th>std</th>\n",
       "      <td>1.000000e+00</td>\n",
       "      <td>1.000000e+00</td>\n",
       "      <td>1.000000e+00</td>\n",
       "      <td>1.000000e+00</td>\n",
       "      <td>1.000000e+00</td>\n",
       "      <td>1.000000e+00</td>\n",
       "      <td>1.295490e-03</td>\n",
       "      <td>4.758967e-01</td>\n",
       "      <td>4.801358e-01</td>\n",
       "      <td>2.801796e-01</td>\n",
       "    </tr>\n",
       "    <tr>\n",
       "      <th>min</th>\n",
       "      <td>-1.701821e+00</td>\n",
       "      <td>-2.949100e-01</td>\n",
       "      <td>-3.191850e-01</td>\n",
       "      <td>-3.230052e-01</td>\n",
       "      <td>-3.802907e-01</td>\n",
       "      <td>-4.018963e-01</td>\n",
       "      <td>0.000000e+00</td>\n",
       "      <td>0.000000e+00</td>\n",
       "      <td>0.000000e+00</td>\n",
       "      <td>0.000000e+00</td>\n",
       "    </tr>\n",
       "    <tr>\n",
       "      <th>25%</th>\n",
       "      <td>-6.148163e-01</td>\n",
       "      <td>-2.736259e-01</td>\n",
       "      <td>-3.191850e-01</td>\n",
       "      <td>-3.230052e-01</td>\n",
       "      <td>-2.863030e-01</td>\n",
       "      <td>-2.844388e-01</td>\n",
       "      <td>0.000000e+00</td>\n",
       "      <td>0.000000e+00</td>\n",
       "      <td>0.000000e+00</td>\n",
       "      <td>0.000000e+00</td>\n",
       "    </tr>\n",
       "    <tr>\n",
       "      <th>50%</th>\n",
       "      <td>-3.274259e-02</td>\n",
       "      <td>-1.761826e-01</td>\n",
       "      <td>-3.109019e-01</td>\n",
       "      <td>-3.230052e-01</td>\n",
       "      <td>-2.180551e-01</td>\n",
       "      <td>-2.118236e-01</td>\n",
       "      <td>0.000000e+00</td>\n",
       "      <td>1.000000e+00</td>\n",
       "      <td>0.000000e+00</td>\n",
       "      <td>0.000000e+00</td>\n",
       "    </tr>\n",
       "    <tr>\n",
       "      <th>75%</th>\n",
       "      <td>6.404993e-01</td>\n",
       "      <td>4.533976e-02</td>\n",
       "      <td>-2.502482e-01</td>\n",
       "      <td>-2.452298e-01</td>\n",
       "      <td>-1.070708e-01</td>\n",
       "      <td>-9.904326e-02</td>\n",
       "      <td>0.000000e+00</td>\n",
       "      <td>1.000000e+00</td>\n",
       "      <td>1.000000e+00</td>\n",
       "      <td>0.000000e+00</td>\n",
       "    </tr>\n",
       "    <tr>\n",
       "      <th>max</th>\n",
       "      <td>3.501777e+00</td>\n",
       "      <td>1.509033e+02</td>\n",
       "      <td>1.332268e+01</td>\n",
       "      <td>6.206140e+00</td>\n",
       "      <td>1.065098e+02</td>\n",
       "      <td>9.847815e+01</td>\n",
       "      <td>1.000000e+00</td>\n",
       "      <td>1.000000e+00</td>\n",
       "      <td>1.000000e+00</td>\n",
       "      <td>1.000000e+00</td>\n",
       "    </tr>\n",
       "  </tbody>\n",
       "</table>\n",
       "</div>"
      ],
      "text/plain": [
       "               step        amount  oldbalanceOrg  newbalanceOrig  \\\n",
       "count  5.958421e+06  5.958421e+06   5.958421e+06    5.958421e+06   \n",
       "mean  -3.999412e-17 -1.937768e-16   1.787417e-16   -3.412475e-16   \n",
       "std    1.000000e+00  1.000000e+00   1.000000e+00    1.000000e+00   \n",
       "min   -1.701821e+00 -2.949100e-01  -3.191850e-01   -3.230052e-01   \n",
       "25%   -6.148163e-01 -2.736259e-01  -3.191850e-01   -3.230052e-01   \n",
       "50%   -3.274259e-02 -1.761826e-01  -3.109019e-01   -3.230052e-01   \n",
       "75%    6.404993e-01  4.533976e-02  -2.502482e-01   -2.452298e-01   \n",
       "max    3.501777e+00  1.509033e+02   1.332268e+01    6.206140e+00   \n",
       "\n",
       "       oldbalanceDest  newbalanceDest  isFlaggedFraud  nameDest_startswith_C  \\\n",
       "count    5.958421e+06    5.958421e+06    5.958421e+06           5.958421e+06   \n",
       "mean    -4.304216e-17    2.226806e-16    1.678297e-06           6.533701e-01   \n",
       "std      1.000000e+00    1.000000e+00    1.295490e-03           4.758967e-01   \n",
       "min     -3.802907e-01   -4.018963e-01    0.000000e+00           0.000000e+00   \n",
       "25%     -2.863030e-01   -2.844388e-01    0.000000e+00           0.000000e+00   \n",
       "50%     -2.180551e-01   -2.118236e-01    0.000000e+00           1.000000e+00   \n",
       "75%     -1.070708e-01   -9.904326e-02    0.000000e+00           1.000000e+00   \n",
       "max      1.065098e+02    9.847815e+01    1.000000e+00           1.000000e+00   \n",
       "\n",
       "       type_CASH_OUT  type_TRANSFER  \n",
       "count   5.958421e+06   5.958421e+06  \n",
       "mean    3.604665e-01   8.587510e-02  \n",
       "std     4.801358e-01   2.801796e-01  \n",
       "min     0.000000e+00   0.000000e+00  \n",
       "25%     0.000000e+00   0.000000e+00  \n",
       "50%     0.000000e+00   0.000000e+00  \n",
       "75%     1.000000e+00   0.000000e+00  \n",
       "max     1.000000e+00   1.000000e+00  "
      ]
     },
     "metadata": {},
     "output_type": "display_data"
    },
    {
     "name": "stdout",
     "output_type": "stream",
     "text": [
      "---- Standardizing the testing set ----\n"
     ]
    },
    {
     "name": "stderr",
     "output_type": "stream",
     "text": [
      "c:\\users\\mansi\\anaconda3\\envs\\project\\lib\\site-packages\\ipykernel_launcher.py:22: SettingWithCopyWarning: \n",
      "A value is trying to be set on a copy of a slice from a DataFrame.\n",
      "Try using .loc[row_indexer,col_indexer] = value instead\n",
      "\n",
      "See the caveats in the documentation: https://pandas.pydata.org/pandas-docs/stable/user_guide/indexing.html#returning-a-view-versus-a-copy\n",
      "c:\\users\\mansi\\anaconda3\\envs\\project\\lib\\site-packages\\pandas\\core\\indexing.py:1734: SettingWithCopyWarning: \n",
      "A value is trying to be set on a copy of a slice from a DataFrame.\n",
      "Try using .loc[row_indexer,col_indexer] = value instead\n",
      "\n",
      "See the caveats in the documentation: https://pandas.pydata.org/pandas-docs/stable/user_guide/indexing.html#returning-a-view-versus-a-copy\n",
      "  isetter(loc, value[:, i].tolist())\n"
     ]
    },
    {
     "data": {
      "text/html": [
       "<div>\n",
       "<style scoped>\n",
       "    .dataframe tbody tr th:only-of-type {\n",
       "        vertical-align: middle;\n",
       "    }\n",
       "\n",
       "    .dataframe tbody tr th {\n",
       "        vertical-align: top;\n",
       "    }\n",
       "\n",
       "    .dataframe thead th {\n",
       "        text-align: right;\n",
       "    }\n",
       "</style>\n",
       "<table border=\"1\" class=\"dataframe\">\n",
       "  <thead>\n",
       "    <tr style=\"text-align: right;\">\n",
       "      <th></th>\n",
       "      <th>step</th>\n",
       "      <th>amount</th>\n",
       "      <th>oldbalanceOrg</th>\n",
       "      <th>newbalanceOrig</th>\n",
       "      <th>oldbalanceDest</th>\n",
       "      <th>newbalanceDest</th>\n",
       "      <th>isFlaggedFraud</th>\n",
       "      <th>nameDest_startswith_C</th>\n",
       "      <th>type_CASH_OUT</th>\n",
       "      <th>type_TRANSFER</th>\n",
       "    </tr>\n",
       "  </thead>\n",
       "  <tbody>\n",
       "    <tr>\n",
       "      <th>count</th>\n",
       "      <td>248268.000000</td>\n",
       "      <td>248268.000000</td>\n",
       "      <td>248268.000000</td>\n",
       "      <td>248268.000000</td>\n",
       "      <td>248268.000000</td>\n",
       "      <td>248268.000000</td>\n",
       "      <td>248268.0</td>\n",
       "      <td>248268.000000</td>\n",
       "      <td>248268.000000</td>\n",
       "      <td>248268.000000</td>\n",
       "    </tr>\n",
       "    <tr>\n",
       "      <th>mean</th>\n",
       "      <td>0.001145</td>\n",
       "      <td>-0.002161</td>\n",
       "      <td>0.001250</td>\n",
       "      <td>0.001109</td>\n",
       "      <td>-0.002357</td>\n",
       "      <td>-0.002423</td>\n",
       "      <td>0.0</td>\n",
       "      <td>0.653213</td>\n",
       "      <td>0.361210</td>\n",
       "      <td>0.085255</td>\n",
       "    </tr>\n",
       "    <tr>\n",
       "      <th>std</th>\n",
       "      <td>1.000062</td>\n",
       "      <td>0.954521</td>\n",
       "      <td>1.002088</td>\n",
       "      <td>1.001405</td>\n",
       "      <td>0.970969</td>\n",
       "      <td>0.966665</td>\n",
       "      <td>0.0</td>\n",
       "      <td>0.475948</td>\n",
       "      <td>0.480352</td>\n",
       "      <td>0.279261</td>\n",
       "    </tr>\n",
       "    <tr>\n",
       "      <th>min</th>\n",
       "      <td>-1.701821</td>\n",
       "      <td>-0.294910</td>\n",
       "      <td>-0.319185</td>\n",
       "      <td>-0.323005</td>\n",
       "      <td>-0.380291</td>\n",
       "      <td>-0.401896</td>\n",
       "      <td>0.0</td>\n",
       "      <td>0.000000</td>\n",
       "      <td>0.000000</td>\n",
       "      <td>0.000000</td>\n",
       "    </tr>\n",
       "    <tr>\n",
       "      <th>25%</th>\n",
       "      <td>-0.614816</td>\n",
       "      <td>-0.273596</td>\n",
       "      <td>-0.319185</td>\n",
       "      <td>-0.323005</td>\n",
       "      <td>-0.285415</td>\n",
       "      <td>-0.283601</td>\n",
       "      <td>0.0</td>\n",
       "      <td>0.000000</td>\n",
       "      <td>0.000000</td>\n",
       "      <td>0.000000</td>\n",
       "    </tr>\n",
       "    <tr>\n",
       "      <th>50%</th>\n",
       "      <td>-0.032743</td>\n",
       "      <td>-0.176156</td>\n",
       "      <td>-0.310944</td>\n",
       "      <td>-0.323005</td>\n",
       "      <td>-0.218055</td>\n",
       "      <td>-0.211824</td>\n",
       "      <td>0.0</td>\n",
       "      <td>1.000000</td>\n",
       "      <td>0.000000</td>\n",
       "      <td>0.000000</td>\n",
       "    </tr>\n",
       "    <tr>\n",
       "      <th>75%</th>\n",
       "      <td>0.640499</td>\n",
       "      <td>0.046098</td>\n",
       "      <td>-0.249991</td>\n",
       "      <td>-0.245202</td>\n",
       "      <td>-0.107656</td>\n",
       "      <td>-0.099784</td>\n",
       "      <td>0.0</td>\n",
       "      <td>1.000000</td>\n",
       "      <td>1.000000</td>\n",
       "      <td>0.000000</td>\n",
       "    </tr>\n",
       "    <tr>\n",
       "      <th>max</th>\n",
       "      <td>3.494764</td>\n",
       "      <td>113.108954</td>\n",
       "      <td>11.683852</td>\n",
       "      <td>6.203474</td>\n",
       "      <td>87.189927</td>\n",
       "      <td>88.875655</td>\n",
       "      <td>0.0</td>\n",
       "      <td>1.000000</td>\n",
       "      <td>1.000000</td>\n",
       "      <td>1.000000</td>\n",
       "    </tr>\n",
       "  </tbody>\n",
       "</table>\n",
       "</div>"
      ],
      "text/plain": [
       "                step         amount  oldbalanceOrg  newbalanceOrig  \\\n",
       "count  248268.000000  248268.000000  248268.000000   248268.000000   \n",
       "mean        0.001145      -0.002161       0.001250        0.001109   \n",
       "std         1.000062       0.954521       1.002088        1.001405   \n",
       "min        -1.701821      -0.294910      -0.319185       -0.323005   \n",
       "25%        -0.614816      -0.273596      -0.319185       -0.323005   \n",
       "50%        -0.032743      -0.176156      -0.310944       -0.323005   \n",
       "75%         0.640499       0.046098      -0.249991       -0.245202   \n",
       "max         3.494764     113.108954      11.683852        6.203474   \n",
       "\n",
       "       oldbalanceDest  newbalanceDest  isFlaggedFraud  nameDest_startswith_C  \\\n",
       "count   248268.000000   248268.000000        248268.0          248268.000000   \n",
       "mean        -0.002357       -0.002423             0.0               0.653213   \n",
       "std          0.970969        0.966665             0.0               0.475948   \n",
       "min         -0.380291       -0.401896             0.0               0.000000   \n",
       "25%         -0.285415       -0.283601             0.0               0.000000   \n",
       "50%         -0.218055       -0.211824             0.0               1.000000   \n",
       "75%         -0.107656       -0.099784             0.0               1.000000   \n",
       "max         87.189927       88.875655             0.0               1.000000   \n",
       "\n",
       "       type_CASH_OUT  type_TRANSFER  \n",
       "count  248268.000000  248268.000000  \n",
       "mean        0.361210       0.085255  \n",
       "std         0.480352       0.279261  \n",
       "min         0.000000       0.000000  \n",
       "25%         0.000000       0.000000  \n",
       "50%         0.000000       0.000000  \n",
       "75%         1.000000       0.000000  \n",
       "max         1.000000       1.000000  "
      ]
     },
     "metadata": {},
     "output_type": "display_data"
    }
   ],
   "source": [
    "from sklearn.preprocessing import StandardScaler\n",
    "std = StandardScaler()\n",
    "print('---- Standardizing the training set -----')\n",
    "X_train[['step', 'amount', 'oldbalanceOrg'\n",
    "         , 'newbalanceOrig', 'oldbalanceDest',\n",
    "         'newbalanceDest']] = std.fit_transform(X_train.loc[:, ['step',\n",
    "                                              'amount',\n",
    "                                              'oldbalanceOrg',\n",
    "                                              'newbalanceOrig',\n",
    "                                              'oldbalanceDest',\n",
    "                                              'newbalanceDest']])\n",
    "X_train_std = pd.DataFrame(X_train, columns=X_train.columns)\n",
    "display(X_train_std.describe())\n",
    "\n",
    "print('---- Standardizing the testing set ----')\n",
    "X_test[['step', 'amount', 'oldbalanceOrg'\n",
    "         , 'newbalanceOrig', 'oldbalanceDest',\n",
    "         'newbalanceDest']] = std.transform(X_test.loc[:, ['step',\n",
    "                                              'amount',\n",
    "                                              'oldbalanceOrg','newbalanceOrig',\n",
    "                                              'oldbalanceDest',\n",
    "                                              'newbalanceDest']])\n",
    "X_test_std = pd.DataFrame(X_test, columns=X_train.columns)\n",
    "display(X_test_std.describe())"
   ]
  },
  {
   "cell_type": "markdown",
   "id": "80c1ca00",
   "metadata": {},
   "source": [
    "Feature selection/Extraction"
   ]
  },
  {
   "cell_type": "markdown",
   "id": "abcf81a0",
   "metadata": {},
   "source": [
    "Correlation heatmap"
   ]
  },
  {
   "cell_type": "code",
   "execution_count": 78,
   "id": "c72db0d1",
   "metadata": {},
   "outputs": [
    {
     "data": {
      "image/png": "[encoded data removed]",
      "text/plain": [
       "<Figure size 864x720 with 2 Axes>"
      ]
     },
     "metadata": {
      "needs_background": "light"
     },
     "output_type": "display_data"
    }
   ],
   "source": [
    "plt.figure(figsize=[12, 10])\n",
    "\n",
    "sns.heatmap(dataset.corr(), annot=True, vmax=1, vmin=-1)\n",
    "plt.show()"
   ]
  },
  {
   "cell_type": "markdown",
   "id": "766d035f",
   "metadata": {},
   "source": [
    "Since we have a binary target variable, corr heatmap won't be as such useful to figure out which features are better predictors. But we can get the idea about some correlated features, which makes a few features redundant in our predictive model(We will need to remove these redundant feature variable) We can see a few correlated features above."
   ]
  },
  {
   "cell_type": "markdown",
   "id": "cd6b9f23",
   "metadata": {},
   "source": [
    "Testing logistic regression with our data"
   ]
  },
  {
   "cell_type": "code",
   "execution_count": 79,
   "id": "e11148f6",
   "metadata": {},
   "outputs": [],
   "source": [
    "y_train_ = y_train.values\n",
    "y_test_ = y_test.values"
   ]
  },
  {
   "cell_type": "code",
   "execution_count": 80,
   "id": "b0e0344f",
   "metadata": {},
   "outputs": [
    {
     "data": {
      "text/plain": [
       "(5958421, 12)"
      ]
     },
     "execution_count": 80,
     "metadata": {},
     "output_type": "execute_result"
    }
   ],
   "source": [
    "X_train_std.shape"
   ]
  },
  {
   "cell_type": "markdown",
   "id": "e0f018b1",
   "metadata": {},
   "source": [
    "Computing the class weight for applyting modelling techniques"
   ]
  },
  {
   "cell_type": "code",
   "execution_count": 81,
   "id": "74962f1c",
   "metadata": {},
   "outputs": [
    {
     "data": {
      "text/plain": [
       "array([  0.50065724, 380.87579903])"
      ]
     },
     "execution_count": 81,
     "metadata": {},
     "output_type": "execute_result"
    }
   ],
   "source": [
    "from sklearn.utils.class_weight import compute_class_weight\n",
    "compute_class_weight(class_weight='balanced', classes=[0, 1], y = y_train_)"
   ]
  },
  {
   "cell_type": "code",
   "execution_count": 82,
   "id": "50561e26",
   "metadata": {},
   "outputs": [
    {
     "data": {
      "text/html": [
       "<div>\n",
       "<style scoped>\n",
       "    .dataframe tbody tr th:only-of-type {\n",
       "        vertical-align: middle;\n",
       "    }\n",
       "\n",
       "    .dataframe tbody tr th {\n",
       "        vertical-align: top;\n",
       "    }\n",
       "\n",
       "    .dataframe thead th {\n",
       "        text-align: right;\n",
       "    }\n",
       "</style>\n",
       "<table border=\"1\" class=\"dataframe\">\n",
       "  <thead>\n",
       "    <tr style=\"text-align: right;\">\n",
       "      <th></th>\n",
       "      <th>step</th>\n",
       "      <th>amount</th>\n",
       "      <th>nameOrig</th>\n",
       "      <th>oldbalanceOrg</th>\n",
       "      <th>newbalanceOrig</th>\n",
       "      <th>nameDest</th>\n",
       "      <th>oldbalanceDest</th>\n",
       "      <th>newbalanceDest</th>\n",
       "      <th>isFlaggedFraud</th>\n",
       "      <th>nameDest_startswith_C</th>\n",
       "      <th>type_CASH_OUT</th>\n",
       "      <th>type_TRANSFER</th>\n",
       "    </tr>\n",
       "  </thead>\n",
       "  <tbody>\n",
       "    <tr>\n",
       "      <th>0</th>\n",
       "      <td>-1.414291</td>\n",
       "      <td>-0.283069</td>\n",
       "      <td>C1653777573</td>\n",
       "      <td>-0.311744</td>\n",
       "      <td>-0.320667</td>\n",
       "      <td>C78102107</td>\n",
       "      <td>-0.368275</td>\n",
       "      <td>-0.388776</td>\n",
       "      <td>0</td>\n",
       "      <td>1.0</td>\n",
       "      <td>1</td>\n",
       "      <td>0</td>\n",
       "    </tr>\n",
       "    <tr>\n",
       "      <th>1</th>\n",
       "      <td>0.416085</td>\n",
       "      <td>-0.268531</td>\n",
       "      <td>C199016460</td>\n",
       "      <td>-0.305038</td>\n",
       "      <td>-0.320163</td>\n",
       "      <td>M1186108292</td>\n",
       "      <td>-0.218055</td>\n",
       "      <td>-0.211824</td>\n",
       "      <td>0</td>\n",
       "      <td>0.0</td>\n",
       "      <td>0</td>\n",
       "      <td>0</td>\n",
       "    </tr>\n",
       "    <tr>\n",
       "      <th>2</th>\n",
       "      <td>0.037387</td>\n",
       "      <td>-0.126457</td>\n",
       "      <td>C1753251596</td>\n",
       "      <td>-0.319185</td>\n",
       "      <td>-0.323005</td>\n",
       "      <td>C605769476</td>\n",
       "      <td>1.020135</td>\n",
       "      <td>0.921584</td>\n",
       "      <td>0</td>\n",
       "      <td>1.0</td>\n",
       "      <td>1</td>\n",
       "      <td>0</td>\n",
       "    </tr>\n",
       "    <tr>\n",
       "      <th>3</th>\n",
       "      <td>-0.874295</td>\n",
       "      <td>2.012855</td>\n",
       "      <td>C443987284</td>\n",
       "      <td>-0.305960</td>\n",
       "      <td>-0.323005</td>\n",
       "      <td>C1185117928</td>\n",
       "      <td>1.376328</td>\n",
       "      <td>1.614056</td>\n",
       "      <td>0</td>\n",
       "      <td>1.0</td>\n",
       "      <td>0</td>\n",
       "      <td>1</td>\n",
       "    </tr>\n",
       "    <tr>\n",
       "      <th>4</th>\n",
       "      <td>0.640499</td>\n",
       "      <td>-0.284229</td>\n",
       "      <td>C768695096</td>\n",
       "      <td>-0.319185</td>\n",
       "      <td>-0.323005</td>\n",
       "      <td>M1286361780</td>\n",
       "      <td>-0.218055</td>\n",
       "      <td>-0.211824</td>\n",
       "      <td>0</td>\n",
       "      <td>0.0</td>\n",
       "      <td>0</td>\n",
       "      <td>0</td>\n",
       "    </tr>\n",
       "  </tbody>\n",
       "</table>\n",
       "</div>"
      ],
      "text/plain": [
       "       step    amount     nameOrig  oldbalanceOrg  newbalanceOrig  \\\n",
       "0 -1.414291 -0.283069  C1653777573      -0.311744       -0.320667   \n",
       "1  0.416085 -0.268531   C199016460      -0.305038       -0.320163   \n",
       "2  0.037387 -0.126457  C1753251596      -0.319185       -0.323005   \n",
       "3 -0.874295  2.012855   C443987284      -0.305960       -0.323005   \n",
       "4  0.640499 -0.284229   C768695096      -0.319185       -0.323005   \n",
       "\n",
       "      nameDest  oldbalanceDest  newbalanceDest  isFlaggedFraud  \\\n",
       "0    C78102107       -0.368275       -0.388776               0   \n",
       "1  M1186108292       -0.218055       -0.211824               0   \n",
       "2   C605769476        1.020135        0.921584               0   \n",
       "3  C1185117928        1.376328        1.614056               0   \n",
       "4  M1286361780       -0.218055       -0.211824               0   \n",
       "\n",
       "   nameDest_startswith_C  type_CASH_OUT  type_TRANSFER  \n",
       "0                    1.0              1              0  \n",
       "1                    0.0              0              0  \n",
       "2                    1.0              1              0  \n",
       "3                    1.0              0              1  \n",
       "4                    0.0              0              0  "
      ]
     },
     "execution_count": 82,
     "metadata": {},
     "output_type": "execute_result"
    }
   ],
   "source": [
    "X_train_std.head()"
   ]
  },
  {
   "cell_type": "code",
   "execution_count": 83,
   "id": "542cb7e0",
   "metadata": {},
   "outputs": [],
   "source": [
    "X_train_std = X_train_std.drop(['isFlaggedFraud'], axis=1)\n",
    "X_test_std = X_test_std.drop(['isFlaggedFraud'], axis=1)"
   ]
  },
  {
   "cell_type": "code",
   "execution_count": 84,
   "id": "6bc5e1c1",
   "metadata": {},
   "outputs": [
    {
     "data": {
      "text/html": [
       "<div>\n",
       "<style scoped>\n",
       "    .dataframe tbody tr th:only-of-type {\n",
       "        vertical-align: middle;\n",
       "    }\n",
       "\n",
       "    .dataframe tbody tr th {\n",
       "        vertical-align: top;\n",
       "    }\n",
       "\n",
       "    .dataframe thead th {\n",
       "        text-align: right;\n",
       "    }\n",
       "</style>\n",
       "<table border=\"1\" class=\"dataframe\">\n",
       "  <thead>\n",
       "    <tr style=\"text-align: right;\">\n",
       "      <th></th>\n",
       "      <th>step</th>\n",
       "      <th>amount</th>\n",
       "      <th>nameOrig</th>\n",
       "      <th>oldbalanceOrg</th>\n",
       "      <th>newbalanceOrig</th>\n",
       "      <th>nameDest</th>\n",
       "      <th>oldbalanceDest</th>\n",
       "      <th>newbalanceDest</th>\n",
       "      <th>nameDest_startswith_C</th>\n",
       "      <th>type_CASH_OUT</th>\n",
       "      <th>type_TRANSFER</th>\n",
       "    </tr>\n",
       "  </thead>\n",
       "  <tbody>\n",
       "    <tr>\n",
       "      <th>0</th>\n",
       "      <td>-1.414291</td>\n",
       "      <td>-0.283069</td>\n",
       "      <td>C1653777573</td>\n",
       "      <td>-0.311744</td>\n",
       "      <td>-0.320667</td>\n",
       "      <td>C78102107</td>\n",
       "      <td>-0.368275</td>\n",
       "      <td>-0.388776</td>\n",
       "      <td>1.0</td>\n",
       "      <td>1</td>\n",
       "      <td>0</td>\n",
       "    </tr>\n",
       "    <tr>\n",
       "      <th>1</th>\n",
       "      <td>0.416085</td>\n",
       "      <td>-0.268531</td>\n",
       "      <td>C199016460</td>\n",
       "      <td>-0.305038</td>\n",
       "      <td>-0.320163</td>\n",
       "      <td>M1186108292</td>\n",
       "      <td>-0.218055</td>\n",
       "      <td>-0.211824</td>\n",
       "      <td>0.0</td>\n",
       "      <td>0</td>\n",
       "      <td>0</td>\n",
       "    </tr>\n",
       "    <tr>\n",
       "      <th>2</th>\n",
       "      <td>0.037387</td>\n",
       "      <td>-0.126457</td>\n",
       "      <td>C1753251596</td>\n",
       "      <td>-0.319185</td>\n",
       "      <td>-0.323005</td>\n",
       "      <td>C605769476</td>\n",
       "      <td>1.020135</td>\n",
       "      <td>0.921584</td>\n",
       "      <td>1.0</td>\n",
       "      <td>1</td>\n",
       "      <td>0</td>\n",
       "    </tr>\n",
       "    <tr>\n",
       "      <th>3</th>\n",
       "      <td>-0.874295</td>\n",
       "      <td>2.012855</td>\n",
       "      <td>C443987284</td>\n",
       "      <td>-0.305960</td>\n",
       "      <td>-0.323005</td>\n",
       "      <td>C1185117928</td>\n",
       "      <td>1.376328</td>\n",
       "      <td>1.614056</td>\n",
       "      <td>1.0</td>\n",
       "      <td>0</td>\n",
       "      <td>1</td>\n",
       "    </tr>\n",
       "    <tr>\n",
       "      <th>4</th>\n",
       "      <td>0.640499</td>\n",
       "      <td>-0.284229</td>\n",
       "      <td>C768695096</td>\n",
       "      <td>-0.319185</td>\n",
       "      <td>-0.323005</td>\n",
       "      <td>M1286361780</td>\n",
       "      <td>-0.218055</td>\n",
       "      <td>-0.211824</td>\n",
       "      <td>0.0</td>\n",
       "      <td>0</td>\n",
       "      <td>0</td>\n",
       "    </tr>\n",
       "  </tbody>\n",
       "</table>\n",
       "</div>"
      ],
      "text/plain": [
       "       step    amount     nameOrig  oldbalanceOrg  newbalanceOrig  \\\n",
       "0 -1.414291 -0.283069  C1653777573      -0.311744       -0.320667   \n",
       "1  0.416085 -0.268531   C199016460      -0.305038       -0.320163   \n",
       "2  0.037387 -0.126457  C1753251596      -0.319185       -0.323005   \n",
       "3 -0.874295  2.012855   C443987284      -0.305960       -0.323005   \n",
       "4  0.640499 -0.284229   C768695096      -0.319185       -0.323005   \n",
       "\n",
       "      nameDest  oldbalanceDest  newbalanceDest  nameDest_startswith_C  \\\n",
       "0    C78102107       -0.368275       -0.388776                    1.0   \n",
       "1  M1186108292       -0.218055       -0.211824                    0.0   \n",
       "2   C605769476        1.020135        0.921584                    1.0   \n",
       "3  C1185117928        1.376328        1.614056                    1.0   \n",
       "4  M1286361780       -0.218055       -0.211824                    0.0   \n",
       "\n",
       "   type_CASH_OUT  type_TRANSFER  \n",
       "0              1              0  \n",
       "1              0              0  \n",
       "2              1              0  \n",
       "3              0              1  \n",
       "4              0              0  "
      ]
     },
     "execution_count": 84,
     "metadata": {},
     "output_type": "execute_result"
    }
   ],
   "source": [
    "X_train_std.head()"
   ]
  },
  {
   "cell_type": "code",
   "execution_count": 85,
   "id": "2834f0dd",
   "metadata": {},
   "outputs": [],
   "source": [
    "X_train_std = X_train_std.drop(['nameOrig', 'nameDest'], axis=1)\n",
    "X_test_std = X_test_std.drop(['nameOrig', 'nameDest'], axis=1)"
   ]
  },
  {
   "cell_type": "markdown",
   "id": "1ea6e65c",
   "metadata": {},
   "source": [
    "Predictive Modeling"
   ]
  },
  {
   "cell_type": "markdown",
   "id": "3c38e253",
   "metadata": {},
   "source": [
    "Random Forest"
   ]
  },
  {
   "cell_type": "code",
   "execution_count": null,
   "id": "e8bc23b7",
   "metadata": {},
   "outputs": [],
   "source": [
    "from sklearn.ensemble import RandomForestClassifier\n",
    "RF = RandomForestClassifier(n_estimators=100, criterion='entropy', min_samples_leaf=3, class_weight='balanced', n_jobs=-1)\n",
    "RF.fit(X_train_std, y_train_)"
   ]
  },
  {
   "cell_type": "code",
   "execution_count": null,
   "id": "7f167b67",
   "metadata": {},
   "outputs": [],
   "source": []
  },
  {
   "cell_type": "code",
   "execution_count": null,
   "id": "2b8e3f20",
   "metadata": {},
   "outputs": [],
   "source": [
    "from sklearn.metrics import f1_score, classification_report\n",
    "pred1 = RF.predict(X_train_std)\n",
    "pred2 = RF.predict(X_test_std)\n",
    "\n",
    "print(f1_score(y_train_, pred1))\n",
    "print(f1_score(y_test_, pred2))\n",
    "\n",
    "print(classification_report(y_train_, pred1))\n",
    "print(classification_report(y_test_, pred2))"
   ]
  },
  {
   "cell_type": "markdown",
   "id": "1310e67e",
   "metadata": {},
   "source": [
    "0.986789874406195\n",
    "0.8948247078464107\n",
    "              precision    recall  f1-score   support\n",
    "\n",
    "           0       1.00      1.00      1.00   5731057\n",
    "           1       0.97      1.00      0.99      7583\n",
    "\n",
    "    accuracy                           1.00   5738640\n",
    "   macro avg       0.99      1.00      0.99   5738640\n",
    "weighted avg       1.00      1.00      1.00   5738640\n",
    "\n",
    "              precision    recall  f1-score   support\n",
    "\n",
    "           0       1.00      1.00      1.00    238795\n",
    "           1       0.95      0.85      0.89       316\n",
    "\n",
    "    accuracy                           1.00    239111\n",
    "   macro avg       0.97      0.92      0.95    239111\n",
    "weighted avg       1.00      1.00      1.00    239111"
   ]
  },
  {
   "cell_type": "markdown",
   "id": "4f8eeff1",
   "metadata": {},
   "source": [
    "Using BaggingClassifier"
   ]
  },
  {
   "cell_type": "code",
   "execution_count": null,
   "id": "a4ed48a9",
   "metadata": {},
   "outputs": [],
   "source": [
    "from sklearn.ensemble import BaggingClassifier\n",
    "from sklearn.tree import DecisionTreeClassifier\n",
    "BC = BaggingClassifier(base_estimator=DecisionTreeClassifier(criterion='entropy', class_weight='balanced'), n_estimators=100, n_jobs=-1)\n",
    "BC.fit(X_train_std, y_train_)"
   ]
  },
  {
   "cell_type": "code",
   "execution_count": null,
   "id": "e7c980f2",
   "metadata": {},
   "outputs": [],
   "source": []
  },
  {
   "cell_type": "code",
   "execution_count": null,
   "id": "edd17733",
   "metadata": {},
   "outputs": [],
   "source": [
    "from sklearn.metrics import f1_score, classification_report\n",
    "pred1 = BC.predict(X_train_std)\n",
    "pred2 = BC.predict(X_test_std)\n",
    "\n",
    "print(f1_score(y_train_, pred1))\n",
    "print(f1_score(y_test_, pred2))\n",
    "\n",
    "print(classification_report(y_train_, pred1))\n",
    "print(classification_report(y_test_, pred2))"
   ]
  },
  {
   "cell_type": "markdown",
   "id": "ed79e5b8",
   "metadata": {},
   "source": [
    "1.0\n",
    "0.9\n",
    "              precision    recall  f1-score   support\n",
    "\n",
    "           0       1.00      1.00      1.00   5731057\n",
    "           1       1.00      1.00      1.00      7583\n",
    "\n",
    "    accuracy                           1.00   5738640\n",
    "   macro avg       1.00      1.00      1.00   5738640\n",
    "weighted avg       1.00      1.00      1.00   5738640\n",
    "\n",
    "              precision    recall  f1-score   support\n",
    "\n",
    "           0       1.00      1.00      1.00    238795\n",
    "           1       0.95      0.85      0.90       316\n",
    "\n",
    "    accuracy                           1.00    239111\n",
    "   macro avg       0.98      0.93      0.95    239111\n",
    "weighted avg       1.00      1.00      1.00    239111"
   ]
  },
  {
   "cell_type": "code",
   "execution_count": null,
   "id": "80f2ea18",
   "metadata": {},
   "outputs": [],
   "source": [
    "import xgboost as xgb"
   ]
  },
  {
   "cell_type": "code",
   "execution_count": null,
   "id": "d290f705",
   "metadata": {},
   "outputs": [],
   "source": [
    "model = xgb.XGBClassifier()\n",
    "model.fit(X_train_std, y_train_)"
   ]
  },
  {
   "cell_type": "code",
   "execution_count": null,
   "id": "bda88007",
   "metadata": {},
   "outputs": [],
   "source": [
    "from sklearn.metrics import f1_score, classification_report\n",
    "pred1 = model.predict(X_train_std)\n",
    "pred2 = model.predict(X_test_std)\n",
    "\n",
    "print(f1_score(y_train_, pred1))\n",
    "print(f1_score(y_test_, pred2))\n",
    "\n",
    "print(classification_report(y_train_, pred1))\n",
    "print(classification_report(y_test_, pred2))"
   ]
  },
  {
   "cell_type": "markdown",
   "id": "ce381a90",
   "metadata": {},
   "source": [
    "0.9339328951919751\n",
    "0.91\n",
    "              precision    recall  f1-score   support\n",
    "\n",
    "           0       1.00      1.00      1.00   5731057\n",
    "           1       0.98      0.89      0.93      7583\n",
    "\n",
    "    accuracy                           1.00   5738640\n",
    "   macro avg       0.99      0.95      0.97   5738640\n",
    "weighted avg       1.00      1.00      1.00   5738640\n",
    "\n",
    "              precision    recall  f1-score   support\n",
    "\n",
    "           0       1.00      1.00      1.00    238795\n",
    "           1       0.96      0.86      0.91       316\n",
    "\n",
    "    accuracy                           1.00    239111\n",
    "   macro avg       0.98      0.93      0.95    239111\n",
    "weighted avg       1.00      1.00      1.00    239111"
   ]
  },
  {
   "cell_type": "code",
   "execution_count": null,
   "id": "19d8e125",
   "metadata": {},
   "outputs": [],
   "source": []
  }
 ],
 "metadata": {
  "kernelspec": {
   "display_name": "Python 3",
   "language": "python",
   "name": "python3"
  },
  "language_info": {
   "codemirror_mode": {
    "name": "ipython",
    "version": 3
   },
   "file_extension": ".py",
   "mimetype": "text/x-python",
   "name": "python",
   "nbconvert_exporter": "python",
   "pygments_lexer": "ipython3",
   "version": "3.6.13"
  }
 },
 "nbformat": 4,
 "nbformat_minor": 5
}
